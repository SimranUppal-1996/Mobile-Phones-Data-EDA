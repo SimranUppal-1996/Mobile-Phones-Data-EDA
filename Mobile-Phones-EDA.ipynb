{
 "cells": [
  {
   "cell_type": "markdown",
   "id": "afca26b8",
   "metadata": {},
   "source": [
    "# **EXPLORATORY DATA ANALYSIS ON MOBILE PHONES DATASET**"
   ]
  },
  {
   "cell_type": "markdown",
   "id": "8934e058",
   "metadata": {},
   "source": [
    "**IMPORTING REQUIRED MODULES**"
   ]
  },
  {
   "cell_type": "code",
   "execution_count": 1,
   "id": "86247315",
   "metadata": {},
   "outputs": [],
   "source": [
    "import pandas as pd\n",
    "import random\n",
    "import numpy as np\n",
    "import seaborn as sn\n",
    "import matplotlib.pyplot as plt"
   ]
  },
  {
   "cell_type": "markdown",
   "id": "4082ccd6",
   "metadata": {},
   "source": [
    "**READING THE CSV FILE OF THE DATASET**"
   ]
  },
  {
   "cell_type": "code",
   "execution_count": 2,
   "id": "af12aec1",
   "metadata": {},
   "outputs": [],
   "source": [
    "df = pd.read_csv('mobile-phones.csv')"
   ]
  },
  {
   "cell_type": "code",
   "execution_count": 3,
   "id": "e6a31152",
   "metadata": {},
   "outputs": [
    {
     "data": {
      "text/html": [
       "<div>\n",
       "<style scoped>\n",
       "    .dataframe tbody tr th:only-of-type {\n",
       "        vertical-align: middle;\n",
       "    }\n",
       "\n",
       "    .dataframe tbody tr th {\n",
       "        vertical-align: top;\n",
       "    }\n",
       "\n",
       "    .dataframe thead th {\n",
       "        text-align: right;\n",
       "    }\n",
       "</style>\n",
       "<table border=\"1\" class=\"dataframe\">\n",
       "  <thead>\n",
       "    <tr style=\"text-align: right;\">\n",
       "      <th></th>\n",
       "      <th>brand</th>\n",
       "      <th>model</th>\n",
       "      <th>sd_card</th>\n",
       "      <th>main_camera</th>\n",
       "      <th>resolution</th>\n",
       "      <th>display</th>\n",
       "      <th>sim_card</th>\n",
       "      <th>os</th>\n",
       "      <th>color</th>\n",
       "      <th>region</th>\n",
       "      <th>location</th>\n",
       "      <th>screen_size(inch)</th>\n",
       "      <th>battery(mAh)</th>\n",
       "      <th>storage(GB)</th>\n",
       "      <th>ram(GB)</th>\n",
       "      <th>selfie_camera(MP)</th>\n",
       "      <th>price(¢)</th>\n",
       "    </tr>\n",
       "  </thead>\n",
       "  <tbody>\n",
       "    <tr>\n",
       "      <th>0</th>\n",
       "      <td>Samsung</td>\n",
       "      <td>Galaxy S10</td>\n",
       "      <td>yes</td>\n",
       "      <td>3 Cameras: 12, 12, 16 MP</td>\n",
       "      <td>1440 x 3040</td>\n",
       "      <td>AMOLED</td>\n",
       "      <td>Single</td>\n",
       "      <td>Android</td>\n",
       "      <td>White</td>\n",
       "      <td>Greater Accra</td>\n",
       "      <td>Circle</td>\n",
       "      <td>6.10</td>\n",
       "      <td>3400.0</td>\n",
       "      <td>128.0</td>\n",
       "      <td>8.0</td>\n",
       "      <td>10.0</td>\n",
       "      <td>2450.0</td>\n",
       "    </tr>\n",
       "    <tr>\n",
       "      <th>1</th>\n",
       "      <td>Samsung</td>\n",
       "      <td>Galaxy Note 20 Ultra</td>\n",
       "      <td>yes</td>\n",
       "      <td>3 Cameras: 108, 12, 12 MP</td>\n",
       "      <td>1440 x 3088</td>\n",
       "      <td>AMOLED</td>\n",
       "      <td>Dual</td>\n",
       "      <td>Android</td>\n",
       "      <td>Bronze</td>\n",
       "      <td>Greater Accra</td>\n",
       "      <td>Circle</td>\n",
       "      <td>6.90</td>\n",
       "      <td>4500.0</td>\n",
       "      <td>128.0</td>\n",
       "      <td>12.0</td>\n",
       "      <td>10.0</td>\n",
       "      <td>5000.0</td>\n",
       "    </tr>\n",
       "    <tr>\n",
       "      <th>2</th>\n",
       "      <td>Samsung</td>\n",
       "      <td>Galaxy A54 5G</td>\n",
       "      <td>yes</td>\n",
       "      <td>3 Cameras: 50, 12, 5 MP</td>\n",
       "      <td>1080 x 2340</td>\n",
       "      <td>Super AMOLED</td>\n",
       "      <td>Dual</td>\n",
       "      <td>Android</td>\n",
       "      <td>Black</td>\n",
       "      <td>Greater Accra</td>\n",
       "      <td>Accra Metropolitan</td>\n",
       "      <td>6.40</td>\n",
       "      <td>5000.0</td>\n",
       "      <td>256.0</td>\n",
       "      <td>8.0</td>\n",
       "      <td>32.0</td>\n",
       "      <td>3000.0</td>\n",
       "    </tr>\n",
       "    <tr>\n",
       "      <th>3</th>\n",
       "      <td>Tecno</td>\n",
       "      <td>Camon 20 Pro</td>\n",
       "      <td>no</td>\n",
       "      <td>2 Cameras: 64, 2 MP</td>\n",
       "      <td>1080 x 2400</td>\n",
       "      <td>AMOLED</td>\n",
       "      <td>Dual</td>\n",
       "      <td>Android</td>\n",
       "      <td>Black</td>\n",
       "      <td>Greater Accra</td>\n",
       "      <td>Accra Metropolitan</td>\n",
       "      <td>6.67</td>\n",
       "      <td>5000.0</td>\n",
       "      <td>256.0</td>\n",
       "      <td>8.0</td>\n",
       "      <td>32.0</td>\n",
       "      <td>1900.0</td>\n",
       "    </tr>\n",
       "    <tr>\n",
       "      <th>4</th>\n",
       "      <td>Samsung</td>\n",
       "      <td>Galaxy S22 Ultra</td>\n",
       "      <td>no</td>\n",
       "      <td>4 Cameras: 108, 10, 10, 12 MP</td>\n",
       "      <td>1400 x 3088</td>\n",
       "      <td>AMOLED</td>\n",
       "      <td>Dual</td>\n",
       "      <td>Android</td>\n",
       "      <td>Black</td>\n",
       "      <td>Greater Accra</td>\n",
       "      <td>Accra Metropolitan</td>\n",
       "      <td>6.80</td>\n",
       "      <td>5000.0</td>\n",
       "      <td>512.0</td>\n",
       "      <td>12.0</td>\n",
       "      <td>40.0</td>\n",
       "      <td>5750.0</td>\n",
       "    </tr>\n",
       "  </tbody>\n",
       "</table>\n",
       "</div>"
      ],
      "text/plain": [
       "     brand                 model sd_card                    main_camera  \\\n",
       "0  Samsung            Galaxy S10     yes       3 Cameras: 12, 12, 16 MP   \n",
       "1  Samsung  Galaxy Note 20 Ultra     yes      3 Cameras: 108, 12, 12 MP   \n",
       "2  Samsung         Galaxy A54 5G     yes        3 Cameras: 50, 12, 5 MP   \n",
       "3    Tecno          Camon 20 Pro      no            2 Cameras: 64, 2 MP   \n",
       "4  Samsung      Galaxy S22 Ultra      no  4 Cameras: 108, 10, 10, 12 MP   \n",
       "\n",
       "    resolution       display sim_card       os   color         region  \\\n",
       "0  1440 x 3040        AMOLED   Single  Android   White  Greater Accra   \n",
       "1  1440 x 3088        AMOLED     Dual  Android  Bronze  Greater Accra   \n",
       "2  1080 x 2340  Super AMOLED     Dual  Android   Black  Greater Accra   \n",
       "3  1080 x 2400        AMOLED     Dual  Android   Black  Greater Accra   \n",
       "4  1400 x 3088        AMOLED     Dual  Android   Black  Greater Accra   \n",
       "\n",
       "             location  screen_size(inch)  battery(mAh)  storage(GB)  ram(GB)  \\\n",
       "0              Circle               6.10        3400.0        128.0      8.0   \n",
       "1              Circle               6.90        4500.0        128.0     12.0   \n",
       "2  Accra Metropolitan               6.40        5000.0        256.0      8.0   \n",
       "3  Accra Metropolitan               6.67        5000.0        256.0      8.0   \n",
       "4  Accra Metropolitan               6.80        5000.0        512.0     12.0   \n",
       "\n",
       "   selfie_camera(MP)  price(¢)  \n",
       "0               10.0    2450.0  \n",
       "1               10.0    5000.0  \n",
       "2               32.0    3000.0  \n",
       "3               32.0    1900.0  \n",
       "4               40.0    5750.0  "
      ]
     },
     "execution_count": 3,
     "metadata": {},
     "output_type": "execute_result"
    }
   ],
   "source": [
    "df.head()"
   ]
  },
  {
   "cell_type": "markdown",
   "id": "b2850bbb",
   "metadata": {},
   "source": [
    "**FIRSTLY, IT IS A GOOD PRACTICE TO LOOK FOR OUTLIERS**"
   ]
  },
  {
   "cell_type": "code",
   "execution_count": 4,
   "id": "d7d834e7",
   "metadata": {
    "scrolled": true
   },
   "outputs": [
    {
     "data": {
      "text/html": [
       "<div>\n",
       "<style scoped>\n",
       "    .dataframe tbody tr th:only-of-type {\n",
       "        vertical-align: middle;\n",
       "    }\n",
       "\n",
       "    .dataframe tbody tr th {\n",
       "        vertical-align: top;\n",
       "    }\n",
       "\n",
       "    .dataframe thead th {\n",
       "        text-align: right;\n",
       "    }\n",
       "</style>\n",
       "<table border=\"1\" class=\"dataframe\">\n",
       "  <thead>\n",
       "    <tr style=\"text-align: right;\">\n",
       "      <th></th>\n",
       "      <th>screen_size(inch)</th>\n",
       "      <th>battery(mAh)</th>\n",
       "      <th>storage(GB)</th>\n",
       "      <th>ram(GB)</th>\n",
       "      <th>selfie_camera(MP)</th>\n",
       "      <th>price(¢)</th>\n",
       "    </tr>\n",
       "  </thead>\n",
       "  <tbody>\n",
       "    <tr>\n",
       "      <th>count</th>\n",
       "      <td>3473.000000</td>\n",
       "      <td>3430.000000</td>\n",
       "      <td>3597.000000</td>\n",
       "      <td>2812.000000</td>\n",
       "      <td>3293.000000</td>\n",
       "      <td>3600.000000</td>\n",
       "    </tr>\n",
       "    <tr>\n",
       "      <th>mean</th>\n",
       "      <td>5.904221</td>\n",
       "      <td>3788.813703</td>\n",
       "      <td>145.168752</td>\n",
       "      <td>6.143670</td>\n",
       "      <td>13.059824</td>\n",
       "      <td>3442.216667</td>\n",
       "    </tr>\n",
       "    <tr>\n",
       "      <th>std</th>\n",
       "      <td>0.582931</td>\n",
       "      <td>896.597135</td>\n",
       "      <td>109.056178</td>\n",
       "      <td>2.750244</td>\n",
       "      <td>9.454200</td>\n",
       "      <td>3037.076480</td>\n",
       "    </tr>\n",
       "    <tr>\n",
       "      <th>min</th>\n",
       "      <td>1.800000</td>\n",
       "      <td>520.000000</td>\n",
       "      <td>4.000000</td>\n",
       "      <td>1.000000</td>\n",
       "      <td>0.000000</td>\n",
       "      <td>110.000000</td>\n",
       "    </tr>\n",
       "    <tr>\n",
       "      <th>25%</th>\n",
       "      <td>5.800000</td>\n",
       "      <td>3110.000000</td>\n",
       "      <td>64.000000</td>\n",
       "      <td>4.000000</td>\n",
       "      <td>8.000000</td>\n",
       "      <td>1600.000000</td>\n",
       "    </tr>\n",
       "    <tr>\n",
       "      <th>50%</th>\n",
       "      <td>6.100000</td>\n",
       "      <td>3700.000000</td>\n",
       "      <td>128.000000</td>\n",
       "      <td>6.000000</td>\n",
       "      <td>10.000000</td>\n",
       "      <td>2600.000000</td>\n",
       "    </tr>\n",
       "    <tr>\n",
       "      <th>75%</th>\n",
       "      <td>6.100000</td>\n",
       "      <td>4500.000000</td>\n",
       "      <td>128.000000</td>\n",
       "      <td>8.000000</td>\n",
       "      <td>13.000000</td>\n",
       "      <td>3850.000000</td>\n",
       "    </tr>\n",
       "    <tr>\n",
       "      <th>max</th>\n",
       "      <td>7.600000</td>\n",
       "      <td>7000.000000</td>\n",
       "      <td>1024.000000</td>\n",
       "      <td>16.000000</td>\n",
       "      <td>40.000000</td>\n",
       "      <td>26650.000000</td>\n",
       "    </tr>\n",
       "  </tbody>\n",
       "</table>\n",
       "</div>"
      ],
      "text/plain": [
       "       screen_size(inch)  battery(mAh)  storage(GB)      ram(GB)  \\\n",
       "count        3473.000000   3430.000000  3597.000000  2812.000000   \n",
       "mean            5.904221   3788.813703   145.168752     6.143670   \n",
       "std             0.582931    896.597135   109.056178     2.750244   \n",
       "min             1.800000    520.000000     4.000000     1.000000   \n",
       "25%             5.800000   3110.000000    64.000000     4.000000   \n",
       "50%             6.100000   3700.000000   128.000000     6.000000   \n",
       "75%             6.100000   4500.000000   128.000000     8.000000   \n",
       "max             7.600000   7000.000000  1024.000000    16.000000   \n",
       "\n",
       "       selfie_camera(MP)      price(¢)  \n",
       "count        3293.000000   3600.000000  \n",
       "mean           13.059824   3442.216667  \n",
       "std             9.454200   3037.076480  \n",
       "min             0.000000    110.000000  \n",
       "25%             8.000000   1600.000000  \n",
       "50%            10.000000   2600.000000  \n",
       "75%            13.000000   3850.000000  \n",
       "max            40.000000  26650.000000  "
      ]
     },
     "execution_count": 4,
     "metadata": {},
     "output_type": "execute_result"
    }
   ],
   "source": [
    "df.describe()"
   ]
  },
  {
   "cell_type": "markdown",
   "id": "73a7bbfb",
   "metadata": {},
   "source": [
    "**IT CAN BE OBSERVED THAT THERE ARE NO OUTLIERS IN ALL THE DATAFRAME SERIES**"
   ]
  },
  {
   "cell_type": "markdown",
   "id": "ce277b9c",
   "metadata": {},
   "source": [
    "**LET'S START WITH LOOKING FOR NULL VALUES**"
   ]
  },
  {
   "cell_type": "code",
   "execution_count": 5,
   "id": "2692a2c8",
   "metadata": {},
   "outputs": [
    {
     "data": {
      "text/plain": [
       "brand                  0\n",
       "model                  0\n",
       "sd_card                0\n",
       "main_camera          235\n",
       "resolution           536\n",
       "display              566\n",
       "sim_card             790\n",
       "os                   219\n",
       "color                  0\n",
       "region                 0\n",
       "location               0\n",
       "screen_size(inch)    127\n",
       "battery(mAh)         170\n",
       "storage(GB)            3\n",
       "ram(GB)              788\n",
       "selfie_camera(MP)    307\n",
       "price(¢)               0\n",
       "dtype: int64"
      ]
     },
     "execution_count": 5,
     "metadata": {},
     "output_type": "execute_result"
    }
   ],
   "source": [
    "df.isna().sum()"
   ]
  },
  {
   "cell_type": "markdown",
   "id": "b75a75d8",
   "metadata": {},
   "source": [
    "**LET'S START WITH STORAGE AS ONLY 3 VALUES ARE NULL HERE**"
   ]
  },
  {
   "cell_type": "code",
   "execution_count": 6,
   "id": "ad64c437",
   "metadata": {},
   "outputs": [
    {
     "data": {
      "text/html": [
       "<div>\n",
       "<style scoped>\n",
       "    .dataframe tbody tr th:only-of-type {\n",
       "        vertical-align: middle;\n",
       "    }\n",
       "\n",
       "    .dataframe tbody tr th {\n",
       "        vertical-align: top;\n",
       "    }\n",
       "\n",
       "    .dataframe thead th {\n",
       "        text-align: right;\n",
       "    }\n",
       "</style>\n",
       "<table border=\"1\" class=\"dataframe\">\n",
       "  <thead>\n",
       "    <tr style=\"text-align: right;\">\n",
       "      <th></th>\n",
       "      <th>brand</th>\n",
       "      <th>model</th>\n",
       "      <th>sd_card</th>\n",
       "      <th>main_camera</th>\n",
       "      <th>resolution</th>\n",
       "      <th>display</th>\n",
       "      <th>sim_card</th>\n",
       "      <th>os</th>\n",
       "      <th>color</th>\n",
       "      <th>region</th>\n",
       "      <th>location</th>\n",
       "      <th>screen_size(inch)</th>\n",
       "      <th>battery(mAh)</th>\n",
       "      <th>storage(GB)</th>\n",
       "      <th>ram(GB)</th>\n",
       "      <th>selfie_camera(MP)</th>\n",
       "      <th>price(¢)</th>\n",
       "    </tr>\n",
       "  </thead>\n",
       "  <tbody>\n",
       "    <tr>\n",
       "      <th>2534</th>\n",
       "      <td>Itel</td>\n",
       "      <td>IT5081</td>\n",
       "      <td>yes</td>\n",
       "      <td>1 Cameras: 13 MP</td>\n",
       "      <td>240 x 320</td>\n",
       "      <td>TFT</td>\n",
       "      <td>Dual</td>\n",
       "      <td>Windows Mobile</td>\n",
       "      <td>Black</td>\n",
       "      <td>Greater Accra</td>\n",
       "      <td>Santa Maria</td>\n",
       "      <td>4.0</td>\n",
       "      <td>1200.0</td>\n",
       "      <td>NaN</td>\n",
       "      <td>NaN</td>\n",
       "      <td>NaN</td>\n",
       "      <td>220.0</td>\n",
       "    </tr>\n",
       "    <tr>\n",
       "      <th>2539</th>\n",
       "      <td>X-Tigi</td>\n",
       "      <td>3307</td>\n",
       "      <td>yes</td>\n",
       "      <td>1 Cameras: 02 MP</td>\n",
       "      <td>240 x 240</td>\n",
       "      <td>IPS LCD</td>\n",
       "      <td>Dual</td>\n",
       "      <td>Android</td>\n",
       "      <td>Black</td>\n",
       "      <td>Greater Accra</td>\n",
       "      <td>Santa Maria</td>\n",
       "      <td>4.0</td>\n",
       "      <td>520.0</td>\n",
       "      <td>NaN</td>\n",
       "      <td>NaN</td>\n",
       "      <td>NaN</td>\n",
       "      <td>170.0</td>\n",
       "    </tr>\n",
       "    <tr>\n",
       "      <th>2546</th>\n",
       "      <td>Tecno</td>\n",
       "      <td>T529</td>\n",
       "      <td>yes</td>\n",
       "      <td>1 Cameras: 03 MP</td>\n",
       "      <td>240 x 320</td>\n",
       "      <td>IPS LCD</td>\n",
       "      <td>Dual</td>\n",
       "      <td>Nucleus OS</td>\n",
       "      <td>Black</td>\n",
       "      <td>Greater Accra</td>\n",
       "      <td>Santa Maria</td>\n",
       "      <td>4.0</td>\n",
       "      <td>2500.0</td>\n",
       "      <td>NaN</td>\n",
       "      <td>NaN</td>\n",
       "      <td>NaN</td>\n",
       "      <td>389.0</td>\n",
       "    </tr>\n",
       "  </tbody>\n",
       "</table>\n",
       "</div>"
      ],
      "text/plain": [
       "       brand   model sd_card       main_camera resolution  display sim_card  \\\n",
       "2534    Itel  IT5081     yes  1 Cameras: 13 MP  240 x 320      TFT     Dual   \n",
       "2539  X-Tigi    3307     yes  1 Cameras: 02 MP  240 x 240  IPS LCD     Dual   \n",
       "2546   Tecno    T529     yes  1 Cameras: 03 MP  240 x 320  IPS LCD     Dual   \n",
       "\n",
       "                  os  color         region     location  screen_size(inch)  \\\n",
       "2534  Windows Mobile  Black  Greater Accra  Santa Maria                4.0   \n",
       "2539         Android  Black  Greater Accra  Santa Maria                4.0   \n",
       "2546      Nucleus OS  Black  Greater Accra  Santa Maria                4.0   \n",
       "\n",
       "      battery(mAh)  storage(GB)  ram(GB)  selfie_camera(MP)  price(¢)  \n",
       "2534        1200.0          NaN      NaN                NaN     220.0  \n",
       "2539         520.0          NaN      NaN                NaN     170.0  \n",
       "2546        2500.0          NaN      NaN                NaN     389.0  "
      ]
     },
     "execution_count": 6,
     "metadata": {},
     "output_type": "execute_result"
    }
   ],
   "source": [
    "df[df['storage(GB)'].isna()]"
   ]
  },
  {
   "cell_type": "markdown",
   "id": "bd3ec82d",
   "metadata": {},
   "source": [
    "**WE ARE NOTICING A SIMILAR PATTERN IN THE ABOVE THREE ROWS. ALL THESE THREE BRANDS HAVE VERY LIMITED INTERNAL STORAGE, WHICH IS NOT GENERALLY MEASURED IN GB BUT IN MB. ALSO, WE CAN EASILY LOOK UP THE STORAGE VALUES OF THEM AS THERE ARE JUST THREE OF THEM!**"
   ]
  },
  {
   "cell_type": "code",
   "execution_count": 7,
   "id": "f4c486d4",
   "metadata": {},
   "outputs": [
    {
     "data": {
      "text/plain": [
       "count    3597.000000\n",
       "mean      145.168752\n",
       "std       109.056178\n",
       "min         4.000000\n",
       "25%        64.000000\n",
       "50%       128.000000\n",
       "75%       128.000000\n",
       "max      1024.000000\n",
       "Name: storage(GB), dtype: float64"
      ]
     },
     "execution_count": 7,
     "metadata": {},
     "output_type": "execute_result"
    }
   ],
   "source": [
    "df['storage(GB)'].describe()"
   ]
  },
  {
   "cell_type": "markdown",
   "id": "776d98cd",
   "metadata": {},
   "source": [
    "**WE OBSERVE THAT MINIMUM 4 GB STORAGE IS PRESENT, BUT OUR THREE BRANDS DON'T EVEN HAVE 1GB. IT'S AROUND 64MB SO LET'S GIVE 0.06 TO ALL OF THEM**"
   ]
  },
  {
   "cell_type": "code",
   "execution_count": 8,
   "id": "55206fb1",
   "metadata": {},
   "outputs": [],
   "source": [
    "df['storage(GB)'].fillna(0.06,inplace=True)"
   ]
  },
  {
   "cell_type": "code",
   "execution_count": 9,
   "id": "aebba9b1",
   "metadata": {},
   "outputs": [
    {
     "data": {
      "text/plain": [
       "0"
      ]
     },
     "execution_count": 9,
     "metadata": {},
     "output_type": "execute_result"
    }
   ],
   "source": [
    "df['storage(GB)'].isna().sum()"
   ]
  },
  {
   "cell_type": "markdown",
   "id": "5f0a334a",
   "metadata": {},
   "source": [
    "**NEXT LET'S GET TO SCREEN_SIZE(INCH)**"
   ]
  },
  {
   "cell_type": "code",
   "execution_count": 10,
   "id": "432d89cd",
   "metadata": {},
   "outputs": [
    {
     "data": {
      "text/html": [
       "<div>\n",
       "<style scoped>\n",
       "    .dataframe tbody tr th:only-of-type {\n",
       "        vertical-align: middle;\n",
       "    }\n",
       "\n",
       "    .dataframe tbody tr th {\n",
       "        vertical-align: top;\n",
       "    }\n",
       "\n",
       "    .dataframe thead th {\n",
       "        text-align: right;\n",
       "    }\n",
       "</style>\n",
       "<table border=\"1\" class=\"dataframe\">\n",
       "  <thead>\n",
       "    <tr style=\"text-align: right;\">\n",
       "      <th></th>\n",
       "      <th>brand</th>\n",
       "      <th>model</th>\n",
       "      <th>sd_card</th>\n",
       "      <th>main_camera</th>\n",
       "      <th>resolution</th>\n",
       "      <th>display</th>\n",
       "      <th>sim_card</th>\n",
       "      <th>os</th>\n",
       "      <th>color</th>\n",
       "      <th>region</th>\n",
       "      <th>location</th>\n",
       "      <th>screen_size(inch)</th>\n",
       "      <th>battery(mAh)</th>\n",
       "      <th>storage(GB)</th>\n",
       "      <th>ram(GB)</th>\n",
       "      <th>selfie_camera(MP)</th>\n",
       "      <th>price(¢)</th>\n",
       "    </tr>\n",
       "  </thead>\n",
       "  <tbody>\n",
       "    <tr>\n",
       "      <th>48</th>\n",
       "      <td>Vivo</td>\n",
       "      <td>Y66i</td>\n",
       "      <td>yes</td>\n",
       "      <td>NaN</td>\n",
       "      <td>720 x 1280</td>\n",
       "      <td>IPS</td>\n",
       "      <td>Nano-SIM</td>\n",
       "      <td>Android</td>\n",
       "      <td>Gold</td>\n",
       "      <td>Greater Accra</td>\n",
       "      <td>Kokomlemle</td>\n",
       "      <td>NaN</td>\n",
       "      <td>3000.0</td>\n",
       "      <td>32.0</td>\n",
       "      <td>NaN</td>\n",
       "      <td>NaN</td>\n",
       "      <td>850.0</td>\n",
       "    </tr>\n",
       "    <tr>\n",
       "      <th>67</th>\n",
       "      <td>LG</td>\n",
       "      <td>Wing 5G</td>\n",
       "      <td>yes</td>\n",
       "      <td>TRIPLE 64MP / 12MP / 13MP</td>\n",
       "      <td>1080 x 2460 / 1080 x 1240</td>\n",
       "      <td>OLED</td>\n",
       "      <td>Dual</td>\n",
       "      <td>Android</td>\n",
       "      <td>Black</td>\n",
       "      <td>Greater Accra</td>\n",
       "      <td>Kokomlemle</td>\n",
       "      <td>NaN</td>\n",
       "      <td>4000.0</td>\n",
       "      <td>256.0</td>\n",
       "      <td>8.0</td>\n",
       "      <td>32.0</td>\n",
       "      <td>3150.0</td>\n",
       "    </tr>\n",
       "    <tr>\n",
       "      <th>86</th>\n",
       "      <td>Huawei</td>\n",
       "      <td>Nova 2 Plus</td>\n",
       "      <td>yes</td>\n",
       "      <td>NaN</td>\n",
       "      <td>1080 x 1920</td>\n",
       "      <td>IPS LCD</td>\n",
       "      <td>Dual</td>\n",
       "      <td>Android</td>\n",
       "      <td>Black</td>\n",
       "      <td>Greater Accra</td>\n",
       "      <td>Kokomlemle</td>\n",
       "      <td>NaN</td>\n",
       "      <td>3340.0</td>\n",
       "      <td>128.0</td>\n",
       "      <td>NaN</td>\n",
       "      <td>NaN</td>\n",
       "      <td>1350.0</td>\n",
       "    </tr>\n",
       "    <tr>\n",
       "      <th>142</th>\n",
       "      <td>LG</td>\n",
       "      <td>Wing 5G</td>\n",
       "      <td>yes</td>\n",
       "      <td>TRIPLE 64MP / 12MP / 13MP</td>\n",
       "      <td>1080 x 2460 / 1080 x 1240</td>\n",
       "      <td>OLED</td>\n",
       "      <td>Dual</td>\n",
       "      <td>Android</td>\n",
       "      <td>Other</td>\n",
       "      <td>Greater Accra</td>\n",
       "      <td>Accra Metropolitan</td>\n",
       "      <td>NaN</td>\n",
       "      <td>4000.0</td>\n",
       "      <td>128.0</td>\n",
       "      <td>8.0</td>\n",
       "      <td>32.0</td>\n",
       "      <td>3650.0</td>\n",
       "    </tr>\n",
       "    <tr>\n",
       "      <th>172</th>\n",
       "      <td>Google</td>\n",
       "      <td>Pixel 6 Pro</td>\n",
       "      <td>no</td>\n",
       "      <td>NaN</td>\n",
       "      <td>NaN</td>\n",
       "      <td>NaN</td>\n",
       "      <td>NaN</td>\n",
       "      <td>NaN</td>\n",
       "      <td>White</td>\n",
       "      <td>Ashanti</td>\n",
       "      <td>Kumasi Metropolitan</td>\n",
       "      <td>NaN</td>\n",
       "      <td>NaN</td>\n",
       "      <td>128.0</td>\n",
       "      <td>NaN</td>\n",
       "      <td>NaN</td>\n",
       "      <td>3999.0</td>\n",
       "    </tr>\n",
       "    <tr>\n",
       "      <th>...</th>\n",
       "      <td>...</td>\n",
       "      <td>...</td>\n",
       "      <td>...</td>\n",
       "      <td>...</td>\n",
       "      <td>...</td>\n",
       "      <td>...</td>\n",
       "      <td>...</td>\n",
       "      <td>...</td>\n",
       "      <td>...</td>\n",
       "      <td>...</td>\n",
       "      <td>...</td>\n",
       "      <td>...</td>\n",
       "      <td>...</td>\n",
       "      <td>...</td>\n",
       "      <td>...</td>\n",
       "      <td>...</td>\n",
       "      <td>...</td>\n",
       "    </tr>\n",
       "    <tr>\n",
       "      <th>3587</th>\n",
       "      <td>Samsung</td>\n",
       "      <td>Galaxy S10 Plus</td>\n",
       "      <td>yes</td>\n",
       "      <td>3 Cameras: 12, 12, 16 MP</td>\n",
       "      <td>NaN</td>\n",
       "      <td>NaN</td>\n",
       "      <td>Single</td>\n",
       "      <td>Android</td>\n",
       "      <td>Other</td>\n",
       "      <td>Ashanti</td>\n",
       "      <td>Kumasi Metropolitan</td>\n",
       "      <td>NaN</td>\n",
       "      <td>4100.0</td>\n",
       "      <td>128.0</td>\n",
       "      <td>8.0</td>\n",
       "      <td>10.0</td>\n",
       "      <td>2550.0</td>\n",
       "    </tr>\n",
       "    <tr>\n",
       "      <th>3589</th>\n",
       "      <td>Samsung</td>\n",
       "      <td>Galaxy Note 10 Plus</td>\n",
       "      <td>yes</td>\n",
       "      <td>3 Cameras: 16, 12, 12 MP</td>\n",
       "      <td>NaN</td>\n",
       "      <td>NaN</td>\n",
       "      <td>NaN</td>\n",
       "      <td>Android</td>\n",
       "      <td>Black</td>\n",
       "      <td>Greater Accra</td>\n",
       "      <td>Accra Metropolitan</td>\n",
       "      <td>NaN</td>\n",
       "      <td>4300.0</td>\n",
       "      <td>256.0</td>\n",
       "      <td>12.0</td>\n",
       "      <td>10.0</td>\n",
       "      <td>3250.0</td>\n",
       "    </tr>\n",
       "    <tr>\n",
       "      <th>3590</th>\n",
       "      <td>Samsung</td>\n",
       "      <td>Galaxy A51</td>\n",
       "      <td>yes</td>\n",
       "      <td>4 Cameras: 48, 12, 5, 5 MP</td>\n",
       "      <td>NaN</td>\n",
       "      <td>NaN</td>\n",
       "      <td>Dual</td>\n",
       "      <td>Android</td>\n",
       "      <td>Black</td>\n",
       "      <td>Ashanti</td>\n",
       "      <td>Kumasi Metropolitan</td>\n",
       "      <td>NaN</td>\n",
       "      <td>4000.0</td>\n",
       "      <td>128.0</td>\n",
       "      <td>6.0</td>\n",
       "      <td>32.0</td>\n",
       "      <td>1600.0</td>\n",
       "    </tr>\n",
       "    <tr>\n",
       "      <th>3593</th>\n",
       "      <td>Samsung</td>\n",
       "      <td>Galaxy Note 9</td>\n",
       "      <td>yes</td>\n",
       "      <td>2 Cameras: 12, 12 MP</td>\n",
       "      <td>NaN</td>\n",
       "      <td>NaN</td>\n",
       "      <td>Single</td>\n",
       "      <td>Android</td>\n",
       "      <td>Black</td>\n",
       "      <td>Greater Accra</td>\n",
       "      <td>Accra Metropolitan</td>\n",
       "      <td>NaN</td>\n",
       "      <td>4000.0</td>\n",
       "      <td>128.0</td>\n",
       "      <td>8.0</td>\n",
       "      <td>8.0</td>\n",
       "      <td>1950.0</td>\n",
       "    </tr>\n",
       "    <tr>\n",
       "      <th>3595</th>\n",
       "      <td>Samsung</td>\n",
       "      <td>Galaxy Note 20 5G</td>\n",
       "      <td>no</td>\n",
       "      <td>TRIPLE 12MP / 64MP / 12MP</td>\n",
       "      <td>1080 x 2400</td>\n",
       "      <td>AMOLED</td>\n",
       "      <td>NaN</td>\n",
       "      <td>Android</td>\n",
       "      <td>Orange</td>\n",
       "      <td>Greater Accra</td>\n",
       "      <td>Accra Metropolitan</td>\n",
       "      <td>NaN</td>\n",
       "      <td>4300.0</td>\n",
       "      <td>128.0</td>\n",
       "      <td>NaN</td>\n",
       "      <td>10.0</td>\n",
       "      <td>2850.0</td>\n",
       "    </tr>\n",
       "  </tbody>\n",
       "</table>\n",
       "<p>127 rows × 17 columns</p>\n",
       "</div>"
      ],
      "text/plain": [
       "        brand                model sd_card                 main_camera  \\\n",
       "48       Vivo                 Y66i     yes                         NaN   \n",
       "67         LG              Wing 5G     yes   TRIPLE 64MP / 12MP / 13MP   \n",
       "86     Huawei          Nova 2 Plus     yes                         NaN   \n",
       "142        LG              Wing 5G     yes   TRIPLE 64MP / 12MP / 13MP   \n",
       "172    Google          Pixel 6 Pro      no                         NaN   \n",
       "...       ...                  ...     ...                         ...   \n",
       "3587  Samsung      Galaxy S10 Plus     yes    3 Cameras: 12, 12, 16 MP   \n",
       "3589  Samsung  Galaxy Note 10 Plus     yes    3 Cameras: 16, 12, 12 MP   \n",
       "3590  Samsung           Galaxy A51     yes  4 Cameras: 48, 12, 5, 5 MP   \n",
       "3593  Samsung        Galaxy Note 9     yes        2 Cameras: 12, 12 MP   \n",
       "3595  Samsung    Galaxy Note 20 5G      no   TRIPLE 12MP / 64MP / 12MP   \n",
       "\n",
       "                     resolution  display  sim_card       os   color  \\\n",
       "48                   720 x 1280      IPS  Nano-SIM  Android    Gold   \n",
       "67    1080 x 2460 / 1080 x 1240     OLED      Dual  Android   Black   \n",
       "86                  1080 x 1920  IPS LCD      Dual  Android   Black   \n",
       "142   1080 x 2460 / 1080 x 1240     OLED      Dual  Android   Other   \n",
       "172                         NaN      NaN       NaN      NaN   White   \n",
       "...                         ...      ...       ...      ...     ...   \n",
       "3587                        NaN      NaN    Single  Android   Other   \n",
       "3589                        NaN      NaN       NaN  Android   Black   \n",
       "3590                        NaN      NaN      Dual  Android   Black   \n",
       "3593                        NaN      NaN    Single  Android   Black   \n",
       "3595                1080 x 2400   AMOLED       NaN  Android  Orange   \n",
       "\n",
       "             region             location  screen_size(inch)  battery(mAh)  \\\n",
       "48    Greater Accra           Kokomlemle                NaN        3000.0   \n",
       "67    Greater Accra           Kokomlemle                NaN        4000.0   \n",
       "86    Greater Accra           Kokomlemle                NaN        3340.0   \n",
       "142   Greater Accra   Accra Metropolitan                NaN        4000.0   \n",
       "172         Ashanti  Kumasi Metropolitan                NaN           NaN   \n",
       "...             ...                  ...                ...           ...   \n",
       "3587        Ashanti  Kumasi Metropolitan                NaN        4100.0   \n",
       "3589  Greater Accra   Accra Metropolitan                NaN        4300.0   \n",
       "3590        Ashanti  Kumasi Metropolitan                NaN        4000.0   \n",
       "3593  Greater Accra   Accra Metropolitan                NaN        4000.0   \n",
       "3595  Greater Accra   Accra Metropolitan                NaN        4300.0   \n",
       "\n",
       "      storage(GB)  ram(GB)  selfie_camera(MP)  price(¢)  \n",
       "48           32.0      NaN                NaN     850.0  \n",
       "67          256.0      8.0               32.0    3150.0  \n",
       "86          128.0      NaN                NaN    1350.0  \n",
       "142         128.0      8.0               32.0    3650.0  \n",
       "172         128.0      NaN                NaN    3999.0  \n",
       "...           ...      ...                ...       ...  \n",
       "3587        128.0      8.0               10.0    2550.0  \n",
       "3589        256.0     12.0               10.0    3250.0  \n",
       "3590        128.0      6.0               32.0    1600.0  \n",
       "3593        128.0      8.0                8.0    1950.0  \n",
       "3595        128.0      NaN               10.0    2850.0  \n",
       "\n",
       "[127 rows x 17 columns]"
      ]
     },
     "execution_count": 10,
     "metadata": {},
     "output_type": "execute_result"
    }
   ],
   "source": [
    "df[df['screen_size(inch)'].isna()]"
   ]
  },
  {
   "cell_type": "code",
   "execution_count": 11,
   "id": "0a80fb34",
   "metadata": {},
   "outputs": [
    {
     "data": {
      "text/plain": [
       "count    3473.000000\n",
       "mean        5.904221\n",
       "std         0.582931\n",
       "min         1.800000\n",
       "25%         5.800000\n",
       "50%         6.100000\n",
       "75%         6.100000\n",
       "max         7.600000\n",
       "Name: screen_size(inch), dtype: float64"
      ]
     },
     "execution_count": 11,
     "metadata": {},
     "output_type": "execute_result"
    }
   ],
   "source": [
    "df['screen_size(inch)'].describe()"
   ]
  },
  {
   "cell_type": "markdown",
   "id": "e2e46ab2",
   "metadata": {},
   "source": [
    "**IT CAN BE SEEN THAT MEAN VALUE OF SCREEN SIZES IS APPROXIMATELY 5.9**"
   ]
  },
  {
   "cell_type": "code",
   "execution_count": 12,
   "id": "65664c22",
   "metadata": {},
   "outputs": [],
   "source": [
    "df['screen_size(inch)'].fillna(df['screen_size(inch)'].mean(),inplace=True)"
   ]
  },
  {
   "cell_type": "code",
   "execution_count": 13,
   "id": "95095525",
   "metadata": {},
   "outputs": [
    {
     "data": {
      "text/plain": [
       "0"
      ]
     },
     "execution_count": 13,
     "metadata": {},
     "output_type": "execute_result"
    }
   ],
   "source": [
    "df['screen_size(inch)'].isna().sum()"
   ]
  },
  {
   "cell_type": "markdown",
   "id": "c86ca1b0",
   "metadata": {},
   "source": [
    "**NEXT LET'S SOLVE THE NULL VALUE PROBLEM FOR 'BATTERY(MAH)'**"
   ]
  },
  {
   "cell_type": "code",
   "execution_count": 14,
   "id": "8edeb274",
   "metadata": {},
   "outputs": [
    {
     "data": {
      "text/plain": [
       "170"
      ]
     },
     "execution_count": 14,
     "metadata": {},
     "output_type": "execute_result"
    }
   ],
   "source": [
    "df['battery(mAh)'].isna().sum()"
   ]
  },
  {
   "cell_type": "code",
   "execution_count": 15,
   "id": "8a219067",
   "metadata": {},
   "outputs": [
    {
     "data": {
      "text/plain": [
       "count    3430.000000\n",
       "mean     3788.813703\n",
       "std       896.597135\n",
       "min       520.000000\n",
       "25%      3110.000000\n",
       "50%      3700.000000\n",
       "75%      4500.000000\n",
       "max      7000.000000\n",
       "Name: battery(mAh), dtype: float64"
      ]
     },
     "execution_count": 15,
     "metadata": {},
     "output_type": "execute_result"
    }
   ],
   "source": [
    "df['battery(mAh)'].describe()"
   ]
  },
  {
   "cell_type": "code",
   "execution_count": 16,
   "id": "1f39900e",
   "metadata": {},
   "outputs": [],
   "source": [
    "df['battery(mAh)'].fillna(df['battery(mAh)'].mean(),inplace=True)"
   ]
  },
  {
   "cell_type": "code",
   "execution_count": 17,
   "id": "8b2293fc",
   "metadata": {
    "scrolled": true
   },
   "outputs": [
    {
     "data": {
      "text/plain": [
       "0"
      ]
     },
     "execution_count": 17,
     "metadata": {},
     "output_type": "execute_result"
    }
   ],
   "source": [
    "df['battery(mAh)'].isna().sum()"
   ]
  },
  {
   "cell_type": "code",
   "execution_count": 18,
   "id": "9fe2cb8b",
   "metadata": {},
   "outputs": [
    {
     "data": {
      "text/plain": [
       "brand                  0\n",
       "model                  0\n",
       "sd_card                0\n",
       "main_camera          235\n",
       "resolution           536\n",
       "display              566\n",
       "sim_card             790\n",
       "os                   219\n",
       "color                  0\n",
       "region                 0\n",
       "location               0\n",
       "screen_size(inch)      0\n",
       "battery(mAh)           0\n",
       "storage(GB)            0\n",
       "ram(GB)              788\n",
       "selfie_camera(MP)    307\n",
       "price(¢)               0\n",
       "dtype: int64"
      ]
     },
     "execution_count": 18,
     "metadata": {},
     "output_type": "execute_result"
    }
   ],
   "source": [
    "df.isna().sum()"
   ]
  },
  {
   "cell_type": "markdown",
   "id": "020bffce",
   "metadata": {},
   "source": [
    "**TIME FOR OS**"
   ]
  },
  {
   "cell_type": "code",
   "execution_count": 19,
   "id": "a0b1b40c",
   "metadata": {},
   "outputs": [
    {
     "data": {
      "text/plain": [
       "count        3381\n",
       "unique         10\n",
       "top       Android\n",
       "freq         2704\n",
       "Name: os, dtype: object"
      ]
     },
     "execution_count": 19,
     "metadata": {},
     "output_type": "execute_result"
    }
   ],
   "source": [
    "df['os'].describe()"
   ]
  },
  {
   "cell_type": "code",
   "execution_count": 20,
   "id": "2a42b7a6",
   "metadata": {},
   "outputs": [
    {
     "data": {
      "text/plain": [
       "array(['Android', 'iOS', nan, 'IOS', 'Harmony', 'Symbian',\n",
       "       'Windows Mobile', 'Nucleus OS', 'Java', '5000', 'Windows'],\n",
       "      dtype=object)"
      ]
     },
     "execution_count": 20,
     "metadata": {},
     "output_type": "execute_result"
    }
   ],
   "source": [
    "df['os'].unique()"
   ]
  },
  {
   "cell_type": "markdown",
   "id": "0f83956f",
   "metadata": {},
   "source": [
    "**WE CAN SEE THAT THERE ARE NAN VALUES AND ALSO THERE IS THIS VALUE '5000' WHICH IS CLEARLY NOT AN OS NAME, SO WE NEED TO REMOVE BOTH.\n",
    "LET'S SEE THE FREQUENCY OF EACH OS**"
   ]
  },
  {
   "cell_type": "code",
   "execution_count": 21,
   "id": "c197d7ac",
   "metadata": {},
   "outputs": [
    {
     "data": {
      "text/plain": [
       "os\n",
       "Android           2704\n",
       "IOS                562\n",
       "iOS                105\n",
       "Harmony              4\n",
       "Symbian              1\n",
       "Windows Mobile       1\n",
       "Nucleus OS           1\n",
       "Java                 1\n",
       "5000                 1\n",
       "Windows              1\n",
       "Name: count, dtype: int64"
      ]
     },
     "execution_count": 21,
     "metadata": {},
     "output_type": "execute_result"
    }
   ],
   "source": [
    "df['os'].value_counts()"
   ]
  },
  {
   "cell_type": "markdown",
   "id": "a0f28e4e",
   "metadata": {},
   "source": [
    "**THE MAXIMUM FREQUENCY IS OF 'ANDROID' FOLLOWED BY 'IOS'. ALSO IOS IS OCCURING TWICE WITH DIFFERENT CAPS OF I. WE NEED TO CHANGE THAT. IT'S BETTER TO RANDOMLY ASSIGN 'ANDROID' AND 'IOS' TO THE MISSING VALUES**\n"
   ]
  },
  {
   "cell_type": "code",
   "execution_count": 22,
   "id": "067e3ad6",
   "metadata": {},
   "outputs": [],
   "source": [
    "df['os'] = df['os'].replace({'iOS': 'IOS'})\n",
    "df['os'] = df['os'].apply(lambda x: random.choice(['Android','IOS']) if (pd.isnull(x) or x=='5000') else x)"
   ]
  },
  {
   "cell_type": "code",
   "execution_count": 23,
   "id": "3ad711b2",
   "metadata": {},
   "outputs": [
    {
     "data": {
      "text/plain": [
       "array(['Android', 'IOS', 'Harmony', 'Symbian', 'Windows Mobile',\n",
       "       'Nucleus OS', 'Java', 'Windows'], dtype=object)"
      ]
     },
     "execution_count": 23,
     "metadata": {},
     "output_type": "execute_result"
    }
   ],
   "source": [
    "df['os'].unique()"
   ]
  },
  {
   "cell_type": "code",
   "execution_count": 24,
   "id": "033e8f49",
   "metadata": {},
   "outputs": [
    {
     "data": {
      "text/plain": [
       "os\n",
       "Android           2816\n",
       "IOS                775\n",
       "Harmony              4\n",
       "Symbian              1\n",
       "Windows Mobile       1\n",
       "Nucleus OS           1\n",
       "Java                 1\n",
       "Windows              1\n",
       "Name: count, dtype: int64"
      ]
     },
     "execution_count": 24,
     "metadata": {},
     "output_type": "execute_result"
    }
   ],
   "source": [
    "df['os'].value_counts()"
   ]
  },
  {
   "cell_type": "code",
   "execution_count": 25,
   "id": "ed7e3a77",
   "metadata": {},
   "outputs": [
    {
     "data": {
      "text/plain": [
       "0"
      ]
     },
     "execution_count": 25,
     "metadata": {},
     "output_type": "execute_result"
    }
   ],
   "source": [
    "df['os'].isna().sum()"
   ]
  },
  {
   "cell_type": "code",
   "execution_count": 26,
   "id": "e9ea15f0",
   "metadata": {},
   "outputs": [
    {
     "data": {
      "text/plain": [
       "brand                  0\n",
       "model                  0\n",
       "sd_card                0\n",
       "main_camera          235\n",
       "resolution           536\n",
       "display              566\n",
       "sim_card             790\n",
       "os                     0\n",
       "color                  0\n",
       "region                 0\n",
       "location               0\n",
       "screen_size(inch)      0\n",
       "battery(mAh)           0\n",
       "storage(GB)            0\n",
       "ram(GB)              788\n",
       "selfie_camera(MP)    307\n",
       "price(¢)               0\n",
       "dtype: int64"
      ]
     },
     "execution_count": 26,
     "metadata": {},
     "output_type": "execute_result"
    }
   ],
   "source": [
    "df.isna().sum()"
   ]
  },
  {
   "cell_type": "markdown",
   "id": "5abe79c1",
   "metadata": {},
   "source": [
    "**LET'S GET TO 'MAIN CAMERA'**"
   ]
  },
  {
   "cell_type": "code",
   "execution_count": 27,
   "id": "386f5ac2",
   "metadata": {},
   "outputs": [
    {
     "data": {
      "text/plain": [
       "count                 3365\n",
       "unique                 125\n",
       "top       1 Cameras: 12 MP\n",
       "freq                   611\n",
       "Name: main_camera, dtype: object"
      ]
     },
     "execution_count": 27,
     "metadata": {},
     "output_type": "execute_result"
    }
   ],
   "source": [
    "df['main_camera'].describe()"
   ]
  },
  {
   "cell_type": "code",
   "execution_count": 28,
   "id": "afdd4d9a",
   "metadata": {},
   "outputs": [
    {
     "data": {
      "text/plain": [
       "main_camera\n",
       "1 Cameras: 12 MP            611\n",
       "2 Cameras: 12, 12 MP        399\n",
       "3 Cameras: 12, 12, 16 MP    168\n",
       "1 Cameras: 16 MP            106\n",
       "3 Cameras: 16, 12, 12 MP    101\n",
       "                           ... \n",
       "TRIPLE 12MP / 12MP / 8MP      1\n",
       "3 Cameras: 50, 12, 40 MP      1\n",
       "3 Cameras: 50, 40, 12 MP      1\n",
       "TRIPLE 64MP / 2MP / 2MP       1\n",
       "3 Cameras: 108, 8, 2 MP       1\n",
       "Name: count, Length: 125, dtype: int64"
      ]
     },
     "execution_count": 28,
     "metadata": {},
     "output_type": "execute_result"
    }
   ],
   "source": [
    "df['main_camera'].value_counts()"
   ]
  },
  {
   "cell_type": "markdown",
   "id": "93452f2f",
   "metadata": {},
   "source": [
    "**LET'S GET RANDOM AMONG TOP FIVE SPECIFICATIONS**"
   ]
  },
  {
   "cell_type": "code",
   "execution_count": 29,
   "id": "9db30cfb",
   "metadata": {},
   "outputs": [],
   "source": [
    "df['main_camera'] = df['main_camera'].apply(lambda x: random.choice(['1 Cameras: 12 MP','2 Cameras: 12, 12 MP','3 Cameras: 12, 12, 16 MP ','1 Cameras: 16 MP','3 Cameras: 16, 12, 12 MP']) if pd.isnull(x) else x)"
   ]
  },
  {
   "cell_type": "code",
   "execution_count": 30,
   "id": "f6ba07d6",
   "metadata": {},
   "outputs": [
    {
     "data": {
      "text/plain": [
       "main_camera\n",
       "1 Cameras: 12 MP            655\n",
       "2 Cameras: 12, 12 MP        450\n",
       "3 Cameras: 12, 12, 16 MP    168\n",
       "3 Cameras: 16, 12, 12 MP    163\n",
       "1 Cameras: 16 MP            137\n",
       "                           ... \n",
       "TRIPLE 12MP / 12MP / 8MP      1\n",
       "3 Cameras: 50, 12, 40 MP      1\n",
       "3 Cameras: 50, 40, 12 MP      1\n",
       "TRIPLE 64MP / 2MP / 2MP       1\n",
       "3 Cameras: 108, 8, 2 MP       1\n",
       "Name: count, Length: 126, dtype: int64"
      ]
     },
     "execution_count": 30,
     "metadata": {},
     "output_type": "execute_result"
    }
   ],
   "source": [
    "df['main_camera'].value_counts()"
   ]
  },
  {
   "cell_type": "code",
   "execution_count": 31,
   "id": "2bd9b564",
   "metadata": {},
   "outputs": [
    {
     "data": {
      "text/plain": [
       "0"
      ]
     },
     "execution_count": 31,
     "metadata": {},
     "output_type": "execute_result"
    }
   ],
   "source": [
    "df['main_camera'].isna().sum()"
   ]
  },
  {
   "cell_type": "code",
   "execution_count": 32,
   "id": "1e7e46c3",
   "metadata": {},
   "outputs": [
    {
     "data": {
      "text/plain": [
       "brand                  0\n",
       "model                  0\n",
       "sd_card                0\n",
       "main_camera            0\n",
       "resolution           536\n",
       "display              566\n",
       "sim_card             790\n",
       "os                     0\n",
       "color                  0\n",
       "region                 0\n",
       "location               0\n",
       "screen_size(inch)      0\n",
       "battery(mAh)           0\n",
       "storage(GB)            0\n",
       "ram(GB)              788\n",
       "selfie_camera(MP)    307\n",
       "price(¢)               0\n",
       "dtype: int64"
      ]
     },
     "execution_count": 32,
     "metadata": {},
     "output_type": "execute_result"
    }
   ],
   "source": [
    "df.isna().sum()"
   ]
  },
  {
   "cell_type": "markdown",
   "id": "fcd9777b",
   "metadata": {},
   "source": [
    "**LET'S GET TO SELFIE CAMERA**"
   ]
  },
  {
   "cell_type": "code",
   "execution_count": 33,
   "id": "dea4e793",
   "metadata": {},
   "outputs": [
    {
     "data": {
      "text/plain": [
       "count    3293.000000\n",
       "mean       13.059824\n",
       "std         9.454200\n",
       "min         0.000000\n",
       "25%         8.000000\n",
       "50%        10.000000\n",
       "75%        13.000000\n",
       "max        40.000000\n",
       "Name: selfie_camera(MP), dtype: float64"
      ]
     },
     "execution_count": 33,
     "metadata": {},
     "output_type": "execute_result"
    }
   ],
   "source": [
    "df['selfie_camera(MP)'].describe()"
   ]
  },
  {
   "cell_type": "code",
   "execution_count": 34,
   "id": "ec684fcf",
   "metadata": {},
   "outputs": [],
   "source": [
    "df['selfie_camera(MP)'].fillna(40,inplace=True)"
   ]
  },
  {
   "cell_type": "code",
   "execution_count": 35,
   "id": "e8640be6",
   "metadata": {},
   "outputs": [
    {
     "data": {
      "text/plain": [
       "0"
      ]
     },
     "execution_count": 35,
     "metadata": {},
     "output_type": "execute_result"
    }
   ],
   "source": [
    "df['selfie_camera(MP)'].isna().sum()"
   ]
  },
  {
   "cell_type": "markdown",
   "id": "fd86873a",
   "metadata": {},
   "source": [
    "**LET'S RECTIFY NULL VALUE PROBLEM OF 'RESOLUTION'**"
   ]
  },
  {
   "cell_type": "code",
   "execution_count": 36,
   "id": "f0f98477",
   "metadata": {},
   "outputs": [
    {
     "data": {
      "text/plain": [
       "resolution\n",
       "1080 x 2400    470\n",
       "1080 x 2340    282\n",
       "1080 x 1920    219\n",
       "1440 x 2560    155\n",
       "1440 x 2960    141\n",
       "              ... \n",
       "1080 x 2520      1\n",
       "240 x 240        1\n",
       "1080 x 2248      1\n",
       "320 x 240        1\n",
       "96 x 65          1\n",
       "Name: count, Length: 68, dtype: int64"
      ]
     },
     "execution_count": 36,
     "metadata": {},
     "output_type": "execute_result"
    }
   ],
   "source": [
    "df['resolution'].value_counts()"
   ]
  },
  {
   "cell_type": "markdown",
   "id": "f374cc1f",
   "metadata": {},
   "source": [
    "**LET'S FILL IN TOP THREE VALUES RANDOMLY**"
   ]
  },
  {
   "cell_type": "code",
   "execution_count": 37,
   "id": "d41c14db",
   "metadata": {},
   "outputs": [],
   "source": [
    "df['resolution'] = df['resolution'].apply(lambda x: random.choice(['1080 x 2400','1080 x 2340','1080 x 1920']) if pd.isnull(x) else x)"
   ]
  },
  {
   "cell_type": "code",
   "execution_count": 38,
   "id": "13409891",
   "metadata": {
    "scrolled": true
   },
   "outputs": [
    {
     "data": {
      "text/plain": [
       "0"
      ]
     },
     "execution_count": 38,
     "metadata": {},
     "output_type": "execute_result"
    }
   ],
   "source": [
    "df['resolution'].isna().sum()"
   ]
  },
  {
   "cell_type": "code",
   "execution_count": 39,
   "id": "9a81c2cb",
   "metadata": {},
   "outputs": [
    {
     "data": {
      "text/plain": [
       "resolution\n",
       "1080 x 2400    631\n",
       "1080 x 2340    471\n",
       "1080 x 1920    405\n",
       "1440 x 2560    155\n",
       "1440 x 2960    141\n",
       "              ... \n",
       "1080 x 2520      1\n",
       "240 x 240        1\n",
       "1080 x 2248      1\n",
       "320 x 240        1\n",
       "96 x 65          1\n",
       "Name: count, Length: 68, dtype: int64"
      ]
     },
     "execution_count": 39,
     "metadata": {},
     "output_type": "execute_result"
    }
   ],
   "source": [
    "df['resolution'].value_counts()"
   ]
  },
  {
   "cell_type": "markdown",
   "id": "ee575990",
   "metadata": {},
   "source": [
    "**LET'S GET TO DISPLAY** "
   ]
  },
  {
   "cell_type": "code",
   "execution_count": 40,
   "id": "20af8737",
   "metadata": {},
   "outputs": [
    {
     "data": {
      "text/plain": [
       "566"
      ]
     },
     "execution_count": 40,
     "metadata": {},
     "output_type": "execute_result"
    }
   ],
   "source": [
    "df['display'].isna().sum()"
   ]
  },
  {
   "cell_type": "code",
   "execution_count": 41,
   "id": "098f4c52",
   "metadata": {},
   "outputs": [
    {
     "data": {
      "text/plain": [
       "count        3034\n",
       "unique         19\n",
       "top       IPS LCD\n",
       "freq          635\n",
       "Name: display, dtype: object"
      ]
     },
     "execution_count": 41,
     "metadata": {},
     "output_type": "execute_result"
    }
   ],
   "source": [
    "df['display'].describe()"
   ]
  },
  {
   "cell_type": "code",
   "execution_count": 42,
   "id": "30db14b5",
   "metadata": {},
   "outputs": [
    {
     "data": {
      "text/plain": [
       "display\n",
       "IPS LCD                            635\n",
       "Super AMOLED                       588\n",
       "AMOLED                             580\n",
       "OLED                               355\n",
       "Super Retina OLED                  230\n",
       "P-OLED                             214\n",
       "Retina IPS LCD                     165\n",
       "TFT                                142\n",
       "IPS                                 59\n",
       "P-OLED+                             22\n",
       "Dynamic AMOLED                      17\n",
       "PLS LCD                             14\n",
       "PLS                                  5\n",
       "Monochrome                           3\n",
       "G-OLED                               1\n",
       "Super LCD3                           1\n",
       "TN                                   1\n",
       "Retina IPS                           1\n",
       "Dynamic AMOLED / Dynamic AMOLED      1\n",
       "Name: count, dtype: int64"
      ]
     },
     "execution_count": 42,
     "metadata": {},
     "output_type": "execute_result"
    }
   ],
   "source": [
    "df['display'].value_counts()"
   ]
  },
  {
   "cell_type": "markdown",
   "id": "522d31ed",
   "metadata": {},
   "source": [
    "**WE'LL GO FOR TOP FOUR**"
   ]
  },
  {
   "cell_type": "code",
   "execution_count": 43,
   "id": "bbb959a3",
   "metadata": {},
   "outputs": [],
   "source": [
    "df['display'] = df['display'].apply(lambda x: random.choice(['IPS LCD','Super AMOLED','AMOLED','OLED']) if pd.isnull(x) else x)"
   ]
  },
  {
   "cell_type": "code",
   "execution_count": 44,
   "id": "476599ef",
   "metadata": {},
   "outputs": [
    {
     "data": {
      "text/plain": [
       "0"
      ]
     },
     "execution_count": 44,
     "metadata": {},
     "output_type": "execute_result"
    }
   ],
   "source": [
    "df['display'].isna().sum()"
   ]
  },
  {
   "cell_type": "code",
   "execution_count": 45,
   "id": "fd3c1251",
   "metadata": {},
   "outputs": [
    {
     "data": {
      "text/plain": [
       "display\n",
       "IPS LCD                            788\n",
       "Super AMOLED                       730\n",
       "AMOLED                             710\n",
       "OLED                               496\n",
       "Super Retina OLED                  230\n",
       "P-OLED                             214\n",
       "Retina IPS LCD                     165\n",
       "TFT                                142\n",
       "IPS                                 59\n",
       "P-OLED+                             22\n",
       "Dynamic AMOLED                      17\n",
       "PLS LCD                             14\n",
       "PLS                                  5\n",
       "Monochrome                           3\n",
       "G-OLED                               1\n",
       "Super LCD3                           1\n",
       "TN                                   1\n",
       "Retina IPS                           1\n",
       "Dynamic AMOLED / Dynamic AMOLED      1\n",
       "Name: count, dtype: int64"
      ]
     },
     "execution_count": 45,
     "metadata": {},
     "output_type": "execute_result"
    }
   ],
   "source": [
    "df['display'].value_counts()"
   ]
  },
  {
   "cell_type": "code",
   "execution_count": 46,
   "id": "92f0d748",
   "metadata": {},
   "outputs": [
    {
     "data": {
      "text/plain": [
       "brand                  0\n",
       "model                  0\n",
       "sd_card                0\n",
       "main_camera            0\n",
       "resolution             0\n",
       "display                0\n",
       "sim_card             790\n",
       "os                     0\n",
       "color                  0\n",
       "region                 0\n",
       "location               0\n",
       "screen_size(inch)      0\n",
       "battery(mAh)           0\n",
       "storage(GB)            0\n",
       "ram(GB)              788\n",
       "selfie_camera(MP)      0\n",
       "price(¢)               0\n",
       "dtype: int64"
      ]
     },
     "execution_count": 46,
     "metadata": {},
     "output_type": "execute_result"
    }
   ],
   "source": [
    "df.isna().sum()"
   ]
  },
  {
   "cell_type": "markdown",
   "id": "f224cabf",
   "metadata": {},
   "source": [
    "**TIME TO FILL IN MISSING VALUES FOR 'RAM(GB)'**"
   ]
  },
  {
   "cell_type": "code",
   "execution_count": 47,
   "id": "c454cc69",
   "metadata": {},
   "outputs": [
    {
     "data": {
      "text/plain": [
       "ram(GB)\n",
       "8.0     776\n",
       "4.0     734\n",
       "6.0     640\n",
       "12.0    270\n",
       "3.0     220\n",
       "2.0     130\n",
       "1.0      36\n",
       "16.0      6\n",
       "Name: count, dtype: int64"
      ]
     },
     "execution_count": 47,
     "metadata": {},
     "output_type": "execute_result"
    }
   ],
   "source": [
    "df['ram(GB)'].value_counts()"
   ]
  },
  {
   "cell_type": "code",
   "execution_count": 48,
   "id": "d067b544",
   "metadata": {},
   "outputs": [
    {
     "data": {
      "text/plain": [
       "count    2812.000000\n",
       "mean        6.143670\n",
       "std         2.750244\n",
       "min         1.000000\n",
       "25%         4.000000\n",
       "50%         6.000000\n",
       "75%         8.000000\n",
       "max        16.000000\n",
       "Name: ram(GB), dtype: float64"
      ]
     },
     "execution_count": 48,
     "metadata": {},
     "output_type": "execute_result"
    }
   ],
   "source": [
    "df['ram(GB)'].describe()"
   ]
  },
  {
   "cell_type": "code",
   "execution_count": 49,
   "id": "79d6b268",
   "metadata": {},
   "outputs": [
    {
     "data": {
      "text/plain": [
       "788"
      ]
     },
     "execution_count": 49,
     "metadata": {},
     "output_type": "execute_result"
    }
   ],
   "source": [
    "df['ram(GB)'].isna().sum()"
   ]
  },
  {
   "cell_type": "markdown",
   "id": "80da359d",
   "metadata": {},
   "source": [
    "**LET'S FILL IN THE MEAN VALUE**"
   ]
  },
  {
   "cell_type": "code",
   "execution_count": 50,
   "id": "27e9c922",
   "metadata": {},
   "outputs": [],
   "source": [
    "df['ram(GB)'].fillna(df['ram(GB)'].mean(),inplace=True)"
   ]
  },
  {
   "cell_type": "code",
   "execution_count": 51,
   "id": "c8125e66",
   "metadata": {},
   "outputs": [
    {
     "data": {
      "text/plain": [
       "0"
      ]
     },
     "execution_count": 51,
     "metadata": {},
     "output_type": "execute_result"
    }
   ],
   "source": [
    "df['ram(GB)'].isna().sum()"
   ]
  },
  {
   "cell_type": "code",
   "execution_count": 52,
   "id": "adda1257",
   "metadata": {},
   "outputs": [
    {
     "data": {
      "text/plain": [
       "ram(GB)\n",
       "6.14367     788\n",
       "8.00000     776\n",
       "4.00000     734\n",
       "6.00000     640\n",
       "12.00000    270\n",
       "3.00000     220\n",
       "2.00000     130\n",
       "1.00000      36\n",
       "16.00000      6\n",
       "Name: count, dtype: int64"
      ]
     },
     "execution_count": 52,
     "metadata": {},
     "output_type": "execute_result"
    }
   ],
   "source": [
    "df['ram(GB)'].value_counts()"
   ]
  },
  {
   "cell_type": "code",
   "execution_count": 53,
   "id": "4c7f1854",
   "metadata": {},
   "outputs": [
    {
     "data": {
      "text/plain": [
       "brand                  0\n",
       "model                  0\n",
       "sd_card                0\n",
       "main_camera            0\n",
       "resolution             0\n",
       "display                0\n",
       "sim_card             790\n",
       "os                     0\n",
       "color                  0\n",
       "region                 0\n",
       "location               0\n",
       "screen_size(inch)      0\n",
       "battery(mAh)           0\n",
       "storage(GB)            0\n",
       "ram(GB)                0\n",
       "selfie_camera(MP)      0\n",
       "price(¢)               0\n",
       "dtype: int64"
      ]
     },
     "execution_count": 53,
     "metadata": {},
     "output_type": "execute_result"
    }
   ],
   "source": [
    "df.isna().sum()"
   ]
  },
  {
   "cell_type": "markdown",
   "id": "6842267b",
   "metadata": {},
   "source": [
    "**YUHOO! ONE LEFT. LET'S GET TO 'SIM CARD'**"
   ]
  },
  {
   "cell_type": "code",
   "execution_count": 54,
   "id": "a49435e9",
   "metadata": {},
   "outputs": [
    {
     "data": {
      "text/plain": [
       "sim_card\n",
       "Dual        1140\n",
       "Single       894\n",
       "Nano-SIM     776\n",
       "Name: count, dtype: int64"
      ]
     },
     "execution_count": 54,
     "metadata": {},
     "output_type": "execute_result"
    }
   ],
   "source": [
    "df['sim_card'].value_counts()"
   ]
  },
  {
   "cell_type": "markdown",
   "id": "17ac31e7",
   "metadata": {},
   "source": [
    "**LET'S RANDOMLY FILL IN THESE THREE**"
   ]
  },
  {
   "cell_type": "code",
   "execution_count": 55,
   "id": "a07b4091",
   "metadata": {},
   "outputs": [],
   "source": [
    "df['sim_card'] = df['sim_card'].apply(lambda x: random.choice(['Dual','Single','Nano-SIM']) if pd.isnull(x) else x)"
   ]
  },
  {
   "cell_type": "code",
   "execution_count": 56,
   "id": "2fc91f7a",
   "metadata": {},
   "outputs": [
    {
     "data": {
      "text/plain": [
       "sim_card\n",
       "Dual        1400\n",
       "Single      1174\n",
       "Nano-SIM    1026\n",
       "Name: count, dtype: int64"
      ]
     },
     "execution_count": 56,
     "metadata": {},
     "output_type": "execute_result"
    }
   ],
   "source": [
    "df['sim_card'].value_counts()"
   ]
  },
  {
   "cell_type": "code",
   "execution_count": 57,
   "id": "e7982ceb",
   "metadata": {},
   "outputs": [
    {
     "data": {
      "text/plain": [
       "0"
      ]
     },
     "execution_count": 57,
     "metadata": {},
     "output_type": "execute_result"
    }
   ],
   "source": [
    "df['sim_card'].isna().sum()"
   ]
  },
  {
   "cell_type": "code",
   "execution_count": 58,
   "id": "ae9cee62",
   "metadata": {},
   "outputs": [
    {
     "data": {
      "text/plain": [
       "brand                0\n",
       "model                0\n",
       "sd_card              0\n",
       "main_camera          0\n",
       "resolution           0\n",
       "display              0\n",
       "sim_card             0\n",
       "os                   0\n",
       "color                0\n",
       "region               0\n",
       "location             0\n",
       "screen_size(inch)    0\n",
       "battery(mAh)         0\n",
       "storage(GB)          0\n",
       "ram(GB)              0\n",
       "selfie_camera(MP)    0\n",
       "price(¢)             0\n",
       "dtype: int64"
      ]
     },
     "execution_count": 58,
     "metadata": {},
     "output_type": "execute_result"
    }
   ],
   "source": [
    "df.isna().sum()"
   ]
  },
  {
   "cell_type": "markdown",
   "id": "ab8b1f8c",
   "metadata": {},
   "source": [
    "**WE'VE GOTTEN RID OF ALL THE NULL OR MISSING VALUES**"
   ]
  },
  {
   "cell_type": "markdown",
   "id": "46044cc5",
   "metadata": {},
   "source": [
    "**NOW TIME FOR SOME MEANINGFUL INSIGHTS**"
   ]
  },
  {
   "cell_type": "code",
   "execution_count": 59,
   "id": "3e16b7da",
   "metadata": {},
   "outputs": [
    {
     "data": {
      "text/html": [
       "<div>\n",
       "<style scoped>\n",
       "    .dataframe tbody tr th:only-of-type {\n",
       "        vertical-align: middle;\n",
       "    }\n",
       "\n",
       "    .dataframe tbody tr th {\n",
       "        vertical-align: top;\n",
       "    }\n",
       "\n",
       "    .dataframe thead th {\n",
       "        text-align: right;\n",
       "    }\n",
       "</style>\n",
       "<table border=\"1\" class=\"dataframe\">\n",
       "  <thead>\n",
       "    <tr style=\"text-align: right;\">\n",
       "      <th></th>\n",
       "      <th>brand</th>\n",
       "      <th>model</th>\n",
       "      <th>sd_card</th>\n",
       "      <th>main_camera</th>\n",
       "      <th>resolution</th>\n",
       "      <th>display</th>\n",
       "      <th>sim_card</th>\n",
       "      <th>os</th>\n",
       "      <th>color</th>\n",
       "      <th>region</th>\n",
       "      <th>location</th>\n",
       "      <th>screen_size(inch)</th>\n",
       "      <th>battery(mAh)</th>\n",
       "      <th>storage(GB)</th>\n",
       "      <th>ram(GB)</th>\n",
       "      <th>selfie_camera(MP)</th>\n",
       "      <th>price(¢)</th>\n",
       "    </tr>\n",
       "  </thead>\n",
       "  <tbody>\n",
       "    <tr>\n",
       "      <th>0</th>\n",
       "      <td>Samsung</td>\n",
       "      <td>Galaxy S10</td>\n",
       "      <td>yes</td>\n",
       "      <td>3 Cameras: 12, 12, 16 MP</td>\n",
       "      <td>1440 x 3040</td>\n",
       "      <td>AMOLED</td>\n",
       "      <td>Single</td>\n",
       "      <td>Android</td>\n",
       "      <td>White</td>\n",
       "      <td>Greater Accra</td>\n",
       "      <td>Circle</td>\n",
       "      <td>6.10</td>\n",
       "      <td>3400.0</td>\n",
       "      <td>128.0</td>\n",
       "      <td>8.0</td>\n",
       "      <td>10.0</td>\n",
       "      <td>2450.0</td>\n",
       "    </tr>\n",
       "    <tr>\n",
       "      <th>1</th>\n",
       "      <td>Samsung</td>\n",
       "      <td>Galaxy Note 20 Ultra</td>\n",
       "      <td>yes</td>\n",
       "      <td>3 Cameras: 108, 12, 12 MP</td>\n",
       "      <td>1440 x 3088</td>\n",
       "      <td>AMOLED</td>\n",
       "      <td>Dual</td>\n",
       "      <td>Android</td>\n",
       "      <td>Bronze</td>\n",
       "      <td>Greater Accra</td>\n",
       "      <td>Circle</td>\n",
       "      <td>6.90</td>\n",
       "      <td>4500.0</td>\n",
       "      <td>128.0</td>\n",
       "      <td>12.0</td>\n",
       "      <td>10.0</td>\n",
       "      <td>5000.0</td>\n",
       "    </tr>\n",
       "    <tr>\n",
       "      <th>2</th>\n",
       "      <td>Samsung</td>\n",
       "      <td>Galaxy A54 5G</td>\n",
       "      <td>yes</td>\n",
       "      <td>3 Cameras: 50, 12, 5 MP</td>\n",
       "      <td>1080 x 2340</td>\n",
       "      <td>Super AMOLED</td>\n",
       "      <td>Dual</td>\n",
       "      <td>Android</td>\n",
       "      <td>Black</td>\n",
       "      <td>Greater Accra</td>\n",
       "      <td>Accra Metropolitan</td>\n",
       "      <td>6.40</td>\n",
       "      <td>5000.0</td>\n",
       "      <td>256.0</td>\n",
       "      <td>8.0</td>\n",
       "      <td>32.0</td>\n",
       "      <td>3000.0</td>\n",
       "    </tr>\n",
       "    <tr>\n",
       "      <th>3</th>\n",
       "      <td>Tecno</td>\n",
       "      <td>Camon 20 Pro</td>\n",
       "      <td>no</td>\n",
       "      <td>2 Cameras: 64, 2 MP</td>\n",
       "      <td>1080 x 2400</td>\n",
       "      <td>AMOLED</td>\n",
       "      <td>Dual</td>\n",
       "      <td>Android</td>\n",
       "      <td>Black</td>\n",
       "      <td>Greater Accra</td>\n",
       "      <td>Accra Metropolitan</td>\n",
       "      <td>6.67</td>\n",
       "      <td>5000.0</td>\n",
       "      <td>256.0</td>\n",
       "      <td>8.0</td>\n",
       "      <td>32.0</td>\n",
       "      <td>1900.0</td>\n",
       "    </tr>\n",
       "    <tr>\n",
       "      <th>4</th>\n",
       "      <td>Samsung</td>\n",
       "      <td>Galaxy S22 Ultra</td>\n",
       "      <td>no</td>\n",
       "      <td>4 Cameras: 108, 10, 10, 12 MP</td>\n",
       "      <td>1400 x 3088</td>\n",
       "      <td>AMOLED</td>\n",
       "      <td>Dual</td>\n",
       "      <td>Android</td>\n",
       "      <td>Black</td>\n",
       "      <td>Greater Accra</td>\n",
       "      <td>Accra Metropolitan</td>\n",
       "      <td>6.80</td>\n",
       "      <td>5000.0</td>\n",
       "      <td>512.0</td>\n",
       "      <td>12.0</td>\n",
       "      <td>40.0</td>\n",
       "      <td>5750.0</td>\n",
       "    </tr>\n",
       "  </tbody>\n",
       "</table>\n",
       "</div>"
      ],
      "text/plain": [
       "     brand                 model sd_card                    main_camera  \\\n",
       "0  Samsung            Galaxy S10     yes       3 Cameras: 12, 12, 16 MP   \n",
       "1  Samsung  Galaxy Note 20 Ultra     yes      3 Cameras: 108, 12, 12 MP   \n",
       "2  Samsung         Galaxy A54 5G     yes        3 Cameras: 50, 12, 5 MP   \n",
       "3    Tecno          Camon 20 Pro      no            2 Cameras: 64, 2 MP   \n",
       "4  Samsung      Galaxy S22 Ultra      no  4 Cameras: 108, 10, 10, 12 MP   \n",
       "\n",
       "    resolution       display sim_card       os   color         region  \\\n",
       "0  1440 x 3040        AMOLED   Single  Android   White  Greater Accra   \n",
       "1  1440 x 3088        AMOLED     Dual  Android  Bronze  Greater Accra   \n",
       "2  1080 x 2340  Super AMOLED     Dual  Android   Black  Greater Accra   \n",
       "3  1080 x 2400        AMOLED     Dual  Android   Black  Greater Accra   \n",
       "4  1400 x 3088        AMOLED     Dual  Android   Black  Greater Accra   \n",
       "\n",
       "             location  screen_size(inch)  battery(mAh)  storage(GB)  ram(GB)  \\\n",
       "0              Circle               6.10        3400.0        128.0      8.0   \n",
       "1              Circle               6.90        4500.0        128.0     12.0   \n",
       "2  Accra Metropolitan               6.40        5000.0        256.0      8.0   \n",
       "3  Accra Metropolitan               6.67        5000.0        256.0      8.0   \n",
       "4  Accra Metropolitan               6.80        5000.0        512.0     12.0   \n",
       "\n",
       "   selfie_camera(MP)  price(¢)  \n",
       "0               10.0    2450.0  \n",
       "1               10.0    5000.0  \n",
       "2               32.0    3000.0  \n",
       "3               32.0    1900.0  \n",
       "4               40.0    5750.0  "
      ]
     },
     "execution_count": 59,
     "metadata": {},
     "output_type": "execute_result"
    }
   ],
   "source": [
    "df.head()"
   ]
  },
  {
   "cell_type": "markdown",
   "id": "49bb0269",
   "metadata": {},
   "source": [
    "**WE'LL INVESTIGATE A BIT ABOUT THE SCREEN SIZE. WHAT DIFFERENT SCREEN SIZES ARE AVAILABLE, WHICH IS THE MOST AND LEAST FAMOUS.**"
   ]
  },
  {
   "cell_type": "code",
   "execution_count": 60,
   "id": "a3d5a473",
   "metadata": {},
   "outputs": [
    {
     "data": {
      "text/plain": [
       "array([6.1       , 6.9       , 6.4       , 6.67      , 6.8       ,\n",
       "       6.7       , 6.46      , 6.        , 5.8       , 6.6       ,\n",
       "       5.90422113, 6.5       , 6.63      , 5.7       , 5.84      ,\n",
       "       6.3       , 6.2       , 5.1       , 6.59      , 6.34      ,\n",
       "       5.5       , 6.52      , 6.82      , 5.2       , 5.93      ,\n",
       "       5.45      , 5.        , 6.78      , 6.56      , 6.61      ,\n",
       "       1.8       , 4.        , 5.81      , 4.7       , 6.39      ,\n",
       "       6.28      , 7.6       , 6.62      ])"
      ]
     },
     "execution_count": 60,
     "metadata": {},
     "output_type": "execute_result"
    }
   ],
   "source": [
    "df['screen_size(inch)'].unique()"
   ]
  },
  {
   "cell_type": "code",
   "execution_count": 61,
   "id": "e1193bfb",
   "metadata": {},
   "outputs": [
    {
     "data": {
      "text/plain": [
       "screen_size(inch)\n",
       "6.100000    2071\n",
       "5.100000     701\n",
       "5.904221     127\n",
       "6.800000     115\n",
       "4.000000      92\n",
       "6.400000      80\n",
       "6.700000      71\n",
       "6.500000      43\n",
       "6.670000      38\n",
       "6.600000      34\n",
       "6.300000      31\n",
       "5.800000      30\n",
       "5.500000      23\n",
       "6.200000      22\n",
       "6.460000      20\n",
       "6.900000      20\n",
       "5.700000      14\n",
       "6.560000      12\n",
       "6.780000      10\n",
       "4.700000       8\n",
       "6.610000       6\n",
       "7.600000       5\n",
       "6.000000       4\n",
       "5.930000       3\n",
       "6.280000       2\n",
       "6.390000       2\n",
       "5.810000       2\n",
       "6.340000       2\n",
       "6.590000       2\n",
       "6.630000       2\n",
       "5.000000       1\n",
       "5.450000       1\n",
       "1.800000       1\n",
       "5.200000       1\n",
       "6.820000       1\n",
       "6.520000       1\n",
       "5.840000       1\n",
       "6.620000       1\n",
       "Name: count, dtype: int64"
      ]
     },
     "execution_count": 61,
     "metadata": {},
     "output_type": "execute_result"
    }
   ],
   "source": [
    "df['screen_size(inch)'].value_counts()"
   ]
  },
  {
   "cell_type": "code",
   "execution_count": 172,
   "id": "66081e66",
   "metadata": {},
   "outputs": [
    {
     "data": {
      "text/plain": [
       "<Axes: title={'center': 'FREQUENCY OF SCREEN SIZES'}, xlabel='screen_size(inch)'>"
      ]
     },
     "execution_count": 172,
     "metadata": {},
     "output_type": "execute_result"
    },
    {
     "data": {
      "image/png": "[encoded data removed]",
      "text/plain": [
       "<Figure size 640x480 with 1 Axes>"
      ]
     },
     "metadata": {},
     "output_type": "display_data"
    }
   ],
   "source": [
    "df.groupby('screen_size(inch)')['price(¢)'].sum().plot(kind='bar',logy=True,color='teal',title='FREQUENCY OF SCREEN SIZES')"
   ]
  },
  {
   "cell_type": "markdown",
   "id": "361712aa",
   "metadata": {},
   "source": [
    "**WE'LL SEE HOW MANY DIFFERENT BATTERIES DO MOBILE PHONES HAVE AND WHAT ARE THEIR PRICES**"
   ]
  },
  {
   "cell_type": "code",
   "execution_count": 63,
   "id": "c9117dab",
   "metadata": {},
   "outputs": [
    {
     "data": {
      "text/plain": [
       "<Axes: title={'center': 'BATTERY VS PRICE'}, xlabel='battery(mAh)'>"
      ]
     },
     "execution_count": 63,
     "metadata": {},
     "output_type": "execute_result"
    },
    {
     "data": {
      "image/png": "[encoded data removed]",
      "text/plain": [
       "<Figure size 640x480 with 1 Axes>"
      ]
     },
     "metadata": {},
     "output_type": "display_data"
    }
   ],
   "source": [
    "df.groupby('battery(mAh)')['price(¢)'].sum().plot(kind='area',color='red',title='BATTERY VS PRICE')"
   ]
  },
  {
   "cell_type": "markdown",
   "id": "15eff405",
   "metadata": {},
   "source": [
    "**LET'S SEE IF THE PRICE CHANGES WITH THE TYPE OF SIM_CARD USED**"
   ]
  },
  {
   "cell_type": "code",
   "execution_count": 64,
   "id": "63f9ed09",
   "metadata": {},
   "outputs": [
    {
     "data": {
      "text/plain": [
       "array(['Single', 'Dual', 'Nano-SIM'], dtype=object)"
      ]
     },
     "execution_count": 64,
     "metadata": {},
     "output_type": "execute_result"
    }
   ],
   "source": [
    "df['sim_card'].unique()"
   ]
  },
  {
   "cell_type": "code",
   "execution_count": 65,
   "id": "f3dadfab",
   "metadata": {},
   "outputs": [
    {
     "data": {
      "text/plain": [
       "<Axes: title={'center': 'SIM_CARD VS PRICE'}, ylabel='price(¢)'>"
      ]
     },
     "execution_count": 65,
     "metadata": {},
     "output_type": "execute_result"
    },
    {
     "data": {
      "image/png": "[encoded data removed]",
      "text/plain": [
       "<Figure size 640x480 with 1 Axes>"
      ]
     },
     "metadata": {},
     "output_type": "display_data"
    }
   ],
   "source": [
    "df.groupby('sim_card')['price(¢)'].sum().plot(kind='pie',title='SIM_CARD VS PRICE',autopct='%.1f%%')"
   ]
  },
  {
   "cell_type": "markdown",
   "id": "a0544fdb",
   "metadata": {},
   "source": [
    "**HOW MANY DIFFERENT DISPLAYS ARE THERE, THEIR FREQUENCY AND THEIR VARIATION WITH THE PRICE OF THE MOBILE PHONES**"
   ]
  },
  {
   "cell_type": "code",
   "execution_count": 66,
   "id": "8deefa85",
   "metadata": {
    "scrolled": true
   },
   "outputs": [
    {
     "data": {
      "text/plain": [
       "array(['AMOLED', 'Super AMOLED', 'IPS LCD', 'P-OLED', 'IPS', 'OLED',\n",
       "       'TFT', 'PLS LCD', 'Super Retina OLED', 'Retina IPS LCD', 'G-OLED',\n",
       "       'P-OLED+', 'PLS', 'Monochrome', 'Super LCD3', 'Dynamic AMOLED',\n",
       "       'TN', 'Retina IPS', 'Dynamic AMOLED / Dynamic AMOLED'],\n",
       "      dtype=object)"
      ]
     },
     "execution_count": 66,
     "metadata": {},
     "output_type": "execute_result"
    }
   ],
   "source": [
    "df.display.unique()"
   ]
  },
  {
   "cell_type": "code",
   "execution_count": 67,
   "id": "322cfad7",
   "metadata": {},
   "outputs": [
    {
     "data": {
      "text/plain": [
       "display\n",
       "IPS LCD                            788\n",
       "Super AMOLED                       730\n",
       "AMOLED                             710\n",
       "OLED                               496\n",
       "Super Retina OLED                  230\n",
       "P-OLED                             214\n",
       "Retina IPS LCD                     165\n",
       "TFT                                142\n",
       "IPS                                 59\n",
       "P-OLED+                             22\n",
       "Dynamic AMOLED                      17\n",
       "PLS LCD                             14\n",
       "PLS                                  5\n",
       "Monochrome                           3\n",
       "G-OLED                               1\n",
       "Super LCD3                           1\n",
       "TN                                   1\n",
       "Retina IPS                           1\n",
       "Dynamic AMOLED / Dynamic AMOLED      1\n",
       "Name: count, dtype: int64"
      ]
     },
     "execution_count": 67,
     "metadata": {},
     "output_type": "execute_result"
    }
   ],
   "source": [
    "df.display.value_counts()"
   ]
  },
  {
   "cell_type": "code",
   "execution_count": 143,
   "id": "d4ddf4e3",
   "metadata": {},
   "outputs": [
    {
     "data": {
      "text/plain": [
       "<Axes: title={'center': 'DISPLAY VS PRICE'}, ylabel='display'>"
      ]
     },
     "execution_count": 143,
     "metadata": {},
     "output_type": "execute_result"
    },
    {
     "data": {
      "image/png": "[encoded data removed]",
      "text/plain": [
       "<Figure size 640x480 with 1 Axes>"
      ]
     },
     "metadata": {},
     "output_type": "display_data"
    }
   ],
   "source": [
    "df.groupby('display')['price(¢)'].sum().plot(kind='barh',logx=True,title='DISPLAY VS PRICE',color='purple')"
   ]
  },
  {
   "cell_type": "markdown",
   "id": "333896a0",
   "metadata": {},
   "source": [
    " **TO SEE WHETHER PHONES WITH OR WITHOUT SD CARD ARE MORE EXPENSIVE**"
   ]
  },
  {
   "cell_type": "code",
   "execution_count": 69,
   "id": "d85d54f6",
   "metadata": {},
   "outputs": [
    {
     "data": {
      "text/plain": [
       "array(['yes', 'no'], dtype=object)"
      ]
     },
     "execution_count": 69,
     "metadata": {},
     "output_type": "execute_result"
    }
   ],
   "source": [
    "df.sd_card.unique()"
   ]
  },
  {
   "cell_type": "code",
   "execution_count": 70,
   "id": "b92ea57c",
   "metadata": {},
   "outputs": [
    {
     "data": {
      "text/plain": [
       "sd_card\n",
       "yes    1848\n",
       "no     1752\n",
       "Name: count, dtype: int64"
      ]
     },
     "execution_count": 70,
     "metadata": {},
     "output_type": "execute_result"
    }
   ],
   "source": [
    "df.sd_card.value_counts()"
   ]
  },
  {
   "cell_type": "code",
   "execution_count": 146,
   "id": "518b3d6d",
   "metadata": {},
   "outputs": [
    {
     "data": {
      "text/plain": [
       "<Axes: title={'center': 'SD_CARD VS PRICE'}, ylabel='price(¢)'>"
      ]
     },
     "execution_count": 146,
     "metadata": {},
     "output_type": "execute_result"
    },
    {
     "data": {
      "image/png": "[encoded data removed]",
      "text/plain": [
       "<Figure size 640x480 with 1 Axes>"
      ]
     },
     "metadata": {},
     "output_type": "display_data"
    }
   ],
   "source": [
    "df.groupby('sd_card')['price(¢)'].sum().plot(kind='pie',title='SD_CARD VS PRICE')"
   ]
  },
  {
   "cell_type": "markdown",
   "id": "0017c60a",
   "metadata": {},
   "source": [
    "**TO DETERMINE THE DIFFERENT BRANDS OF MOBILE PHONES, THEIR NUMBER AND THEIR VARIATION WITH THE PRICE**"
   ]
  },
  {
   "cell_type": "code",
   "execution_count": 72,
   "id": "6d62fa96",
   "metadata": {
    "scrolled": true
   },
   "outputs": [
    {
     "data": {
      "text/plain": [
       "array(['Samsung', 'Tecno', 'LG', 'Vivo', 'Huawei', 'Infinix', 'Apple',\n",
       "       'Google', 'Oppo', 'Nokia', 'Other Brand', 'Itel', 'Motorola',\n",
       "       'Realme', 'Xiaomi', 'Meizu', 'OnePlus', 'Bontel', 'HTC', 'X-Tigi',\n",
       "       'Honor'], dtype=object)"
      ]
     },
     "execution_count": 72,
     "metadata": {},
     "output_type": "execute_result"
    }
   ],
   "source": [
    "df.brand.unique()"
   ]
  },
  {
   "cell_type": "code",
   "execution_count": 73,
   "id": "ff821f90",
   "metadata": {},
   "outputs": [
    {
     "data": {
      "text/plain": [
       "brand\n",
       "Samsung        1659\n",
       "Apple           804\n",
       "Huawei          291\n",
       "Google          261\n",
       "LG              234\n",
       "Tecno           127\n",
       "Infinix          61\n",
       "Itel             40\n",
       "Nokia            30\n",
       "Oppo             27\n",
       "Xiaomi           20\n",
       "OnePlus          12\n",
       "Motorola          9\n",
       "Other Brand       8\n",
       "Vivo              8\n",
       "Realme            2\n",
       "Bontel            2\n",
       "X-Tigi            2\n",
       "Meizu             1\n",
       "HTC               1\n",
       "Honor             1\n",
       "Name: count, dtype: int64"
      ]
     },
     "execution_count": 73,
     "metadata": {},
     "output_type": "execute_result"
    }
   ],
   "source": [
    "df.brand.value_counts()"
   ]
  },
  {
   "cell_type": "code",
   "execution_count": 170,
   "id": "c3b694d7",
   "metadata": {},
   "outputs": [
    {
     "data": {
      "text/plain": [
       "<Axes: title={'center': 'BRAND VS PRICE'}, xlabel='brand'>"
      ]
     },
     "execution_count": 170,
     "metadata": {},
     "output_type": "execute_result"
    },
    {
     "data": {
      "image/png": "[encoded data removed]",
      "text/plain": [
       "<Figure size 640x480 with 1 Axes>"
      ]
     },
     "metadata": {},
     "output_type": "display_data"
    }
   ],
   "source": [
    "df.groupby('brand')['price(¢)'].sum().plot(kind='bar',logy=True,title='BRAND VS PRICE',color='khaki')"
   ]
  },
  {
   "cell_type": "markdown",
   "id": "afd75541",
   "metadata": {},
   "source": [
    "**HOW MANY UNIQUE VALUES FOR MEGAPIXELS IN SELFIE CAMERA AND HOW MANY TOTAL IN EACH OF THEM**"
   ]
  },
  {
   "cell_type": "code",
   "execution_count": 173,
   "id": "da9e50eb",
   "metadata": {},
   "outputs": [
    {
     "data": {
      "text/plain": [
       "<Axes: xlabel='selfie_camera(MP)', ylabel='Count'>"
      ]
     },
     "execution_count": 173,
     "metadata": {},
     "output_type": "execute_result"
    },
    {
     "data": {
      "image/png": "[encoded data removed]",
      "text/plain": [
       "<Figure size 640x480 with 1 Axes>"
      ]
     },
     "metadata": {},
     "output_type": "display_data"
    }
   ],
   "source": [
    "sn.histplot(df['selfie_camera(MP)'],kde=True)"
   ]
  },
  {
   "cell_type": "markdown",
   "id": "3e751c5b",
   "metadata": {},
   "source": [
    " **LET'S SEE HOW MANY DIFFERENT COLOR SETS THERE ARE, TOTAL OF EACH OF THEM AND WHICH COLOR IS MOST FAMOUS AMONG BUYERS**"
   ]
  },
  {
   "cell_type": "code",
   "execution_count": 77,
   "id": "20b3df08",
   "metadata": {
    "scrolled": true
   },
   "outputs": [
    {
     "data": {
      "text/plain": [
       "array(['White', 'Bronze', 'Black', 'Blue', 'Green', 'Silver', 'Gold',\n",
       "       'Gray', 'Pink', 'Yellow', 'Other', 'Rose Gold', 'Purple', 'Red',\n",
       "       'Orange'], dtype=object)"
      ]
     },
     "execution_count": 77,
     "metadata": {},
     "output_type": "execute_result"
    }
   ],
   "source": [
    "df.color.unique()"
   ]
  },
  {
   "cell_type": "code",
   "execution_count": 78,
   "id": "ac29f259",
   "metadata": {
    "scrolled": true
   },
   "outputs": [
    {
     "data": {
      "text/plain": [
       "color\n",
       "Black        1700\n",
       "Gold          395\n",
       "Blue          353\n",
       "Other         342\n",
       "White         205\n",
       "Silver        132\n",
       "Gray           99\n",
       "Green          94\n",
       "Purple         79\n",
       "Rose Gold      71\n",
       "Red            44\n",
       "Pink           33\n",
       "Bronze         22\n",
       "Orange         19\n",
       "Yellow         12\n",
       "Name: count, dtype: int64"
      ]
     },
     "execution_count": 78,
     "metadata": {},
     "output_type": "execute_result"
    }
   ],
   "source": [
    "df.color.value_counts()"
   ]
  },
  {
   "cell_type": "code",
   "execution_count": 79,
   "id": "86344c28",
   "metadata": {},
   "outputs": [
    {
     "data": {
      "text/plain": [
       "count      3600\n",
       "unique       15\n",
       "top       Black\n",
       "freq       1700\n",
       "Name: color, dtype: object"
      ]
     },
     "execution_count": 79,
     "metadata": {},
     "output_type": "execute_result"
    }
   ],
   "source": [
    "df.color.describe()"
   ]
  },
  {
   "cell_type": "code",
   "execution_count": 88,
   "id": "32718726",
   "metadata": {},
   "outputs": [
    {
     "data": {
      "text/plain": [
       "<Axes: title={'center': 'COLOR VS PRICE'}, xlabel='color'>"
      ]
     },
     "execution_count": 88,
     "metadata": {},
     "output_type": "execute_result"
    },
    {
     "data": {
      "image/png": "[encoded data removed]",
      "text/plain": [
       "<Figure size 640x480 with 1 Axes>"
      ]
     },
     "metadata": {},
     "output_type": "display_data"
    }
   ],
   "source": [
    "df['color'].value_counts().plot(kind='bar',logy=True,title='COLOR VS PRICE',color=['black','gold','blue','teal','silver','gray','gray','green','purple','gold','red','pink','brown','orange','yellow'])"
   ]
  },
  {
   "cell_type": "markdown",
   "id": "3c01325e",
   "metadata": {},
   "source": [
    "**DIFFERENT REGIONS WHERE THESE SETS ARE SOLD AND HOW THE PRICE VARIES WITH THEM**"
   ]
  },
  {
   "cell_type": "code",
   "execution_count": 81,
   "id": "65296a2d",
   "metadata": {},
   "outputs": [
    {
     "data": {
      "text/plain": [
       "array(['Greater Accra', 'Ashanti', 'Eastern Region'], dtype=object)"
      ]
     },
     "execution_count": 81,
     "metadata": {},
     "output_type": "execute_result"
    }
   ],
   "source": [
    "df.region.unique()"
   ]
  },
  {
   "cell_type": "code",
   "execution_count": 82,
   "id": "095e9001",
   "metadata": {},
   "outputs": [
    {
     "data": {
      "text/plain": [
       "<Axes: title={'center': 'REGION VS PRICE'}, ylabel='price(¢)'>"
      ]
     },
     "execution_count": 82,
     "metadata": {},
     "output_type": "execute_result"
    },
    {
     "data": {
      "image/png": "[encoded data removed]",
      "text/plain": [
       "<Figure size 640x480 with 1 Axes>"
      ]
     },
     "metadata": {},
     "output_type": "display_data"
    }
   ],
   "source": [
    "df.groupby('region')['price(¢)'].sum().plot(kind='pie',title='REGION VS PRICE',autopct='%.2f%%')"
   ]
  },
  {
   "cell_type": "markdown",
   "id": "756339a5",
   "metadata": {},
   "source": [
    "**DIFFERENT VALUES FOR RAM AND FREQUENCY OF EACH OF THEM**"
   ]
  },
  {
   "cell_type": "code",
   "execution_count": 83,
   "id": "73f30248",
   "metadata": {},
   "outputs": [
    {
     "data": {
      "text/plain": [
       "array([ 8.        , 12.        ,  4.        ,  6.14366999,  6.        ,\n",
       "        3.        ,  2.        , 16.        ,  1.        ])"
      ]
     },
     "execution_count": 83,
     "metadata": {},
     "output_type": "execute_result"
    }
   ],
   "source": [
    "df['ram(GB)'].unique()"
   ]
  },
  {
   "cell_type": "code",
   "execution_count": 162,
   "id": "b40159ab",
   "metadata": {},
   "outputs": [
    {
     "data": {
      "text/plain": [
       "<Axes: xlabel='ram(GB)'>"
      ]
     },
     "execution_count": 162,
     "metadata": {},
     "output_type": "execute_result"
    },
    {
     "data": {
      "image/png": "[encoded data removed]",
      "text/plain": [
       "<Figure size 640x480 with 1 Axes>"
      ]
     },
     "metadata": {},
     "output_type": "display_data"
    }
   ],
   "source": [
    "df['ram(GB)'].value_counts().plot(kind='bar',color='brown')"
   ]
  },
  {
   "cell_type": "markdown",
   "id": "fa737fd0",
   "metadata": {},
   "source": [
    "**WE'LL CALCULATE HOW MANY DIFFERENT MODELS EACH BRAND OF MOBILE PHONE HAS**"
   ]
  },
  {
   "cell_type": "code",
   "execution_count": 85,
   "id": "ad92ddff",
   "metadata": {
    "scrolled": true
   },
   "outputs": [
    {
     "data": {
      "text/html": [
       "<div>\n",
       "<style scoped>\n",
       "    .dataframe tbody tr th:only-of-type {\n",
       "        vertical-align: middle;\n",
       "    }\n",
       "\n",
       "    .dataframe tbody tr th {\n",
       "        vertical-align: top;\n",
       "    }\n",
       "\n",
       "    .dataframe thead th {\n",
       "        text-align: right;\n",
       "    }\n",
       "</style>\n",
       "<table border=\"1\" class=\"dataframe\">\n",
       "  <thead>\n",
       "    <tr style=\"text-align: right;\">\n",
       "      <th></th>\n",
       "      <th>brand</th>\n",
       "      <th>model</th>\n",
       "      <th>sd_card</th>\n",
       "      <th>main_camera</th>\n",
       "      <th>resolution</th>\n",
       "      <th>display</th>\n",
       "      <th>sim_card</th>\n",
       "      <th>os</th>\n",
       "      <th>color</th>\n",
       "      <th>region</th>\n",
       "      <th>location</th>\n",
       "      <th>screen_size(inch)</th>\n",
       "      <th>battery(mAh)</th>\n",
       "      <th>storage(GB)</th>\n",
       "      <th>ram(GB)</th>\n",
       "      <th>selfie_camera(MP)</th>\n",
       "      <th>price(¢)</th>\n",
       "    </tr>\n",
       "  </thead>\n",
       "  <tbody>\n",
       "    <tr>\n",
       "      <th>0</th>\n",
       "      <td>Samsung</td>\n",
       "      <td>Galaxy S10</td>\n",
       "      <td>yes</td>\n",
       "      <td>3 Cameras: 12, 12, 16 MP</td>\n",
       "      <td>1440 x 3040</td>\n",
       "      <td>AMOLED</td>\n",
       "      <td>Single</td>\n",
       "      <td>Android</td>\n",
       "      <td>White</td>\n",
       "      <td>Greater Accra</td>\n",
       "      <td>Circle</td>\n",
       "      <td>6.10</td>\n",
       "      <td>3400.0</td>\n",
       "      <td>128.0</td>\n",
       "      <td>8.0</td>\n",
       "      <td>10.0</td>\n",
       "      <td>2450.0</td>\n",
       "    </tr>\n",
       "    <tr>\n",
       "      <th>1</th>\n",
       "      <td>Samsung</td>\n",
       "      <td>Galaxy Note 20 Ultra</td>\n",
       "      <td>yes</td>\n",
       "      <td>3 Cameras: 108, 12, 12 MP</td>\n",
       "      <td>1440 x 3088</td>\n",
       "      <td>AMOLED</td>\n",
       "      <td>Dual</td>\n",
       "      <td>Android</td>\n",
       "      <td>Bronze</td>\n",
       "      <td>Greater Accra</td>\n",
       "      <td>Circle</td>\n",
       "      <td>6.90</td>\n",
       "      <td>4500.0</td>\n",
       "      <td>128.0</td>\n",
       "      <td>12.0</td>\n",
       "      <td>10.0</td>\n",
       "      <td>5000.0</td>\n",
       "    </tr>\n",
       "    <tr>\n",
       "      <th>2</th>\n",
       "      <td>Samsung</td>\n",
       "      <td>Galaxy A54 5G</td>\n",
       "      <td>yes</td>\n",
       "      <td>3 Cameras: 50, 12, 5 MP</td>\n",
       "      <td>1080 x 2340</td>\n",
       "      <td>Super AMOLED</td>\n",
       "      <td>Dual</td>\n",
       "      <td>Android</td>\n",
       "      <td>Black</td>\n",
       "      <td>Greater Accra</td>\n",
       "      <td>Accra Metropolitan</td>\n",
       "      <td>6.40</td>\n",
       "      <td>5000.0</td>\n",
       "      <td>256.0</td>\n",
       "      <td>8.0</td>\n",
       "      <td>32.0</td>\n",
       "      <td>3000.0</td>\n",
       "    </tr>\n",
       "    <tr>\n",
       "      <th>3</th>\n",
       "      <td>Tecno</td>\n",
       "      <td>Camon 20 Pro</td>\n",
       "      <td>no</td>\n",
       "      <td>2 Cameras: 64, 2 MP</td>\n",
       "      <td>1080 x 2400</td>\n",
       "      <td>AMOLED</td>\n",
       "      <td>Dual</td>\n",
       "      <td>Android</td>\n",
       "      <td>Black</td>\n",
       "      <td>Greater Accra</td>\n",
       "      <td>Accra Metropolitan</td>\n",
       "      <td>6.67</td>\n",
       "      <td>5000.0</td>\n",
       "      <td>256.0</td>\n",
       "      <td>8.0</td>\n",
       "      <td>32.0</td>\n",
       "      <td>1900.0</td>\n",
       "    </tr>\n",
       "    <tr>\n",
       "      <th>4</th>\n",
       "      <td>Samsung</td>\n",
       "      <td>Galaxy S22 Ultra</td>\n",
       "      <td>no</td>\n",
       "      <td>4 Cameras: 108, 10, 10, 12 MP</td>\n",
       "      <td>1400 x 3088</td>\n",
       "      <td>AMOLED</td>\n",
       "      <td>Dual</td>\n",
       "      <td>Android</td>\n",
       "      <td>Black</td>\n",
       "      <td>Greater Accra</td>\n",
       "      <td>Accra Metropolitan</td>\n",
       "      <td>6.80</td>\n",
       "      <td>5000.0</td>\n",
       "      <td>512.0</td>\n",
       "      <td>12.0</td>\n",
       "      <td>40.0</td>\n",
       "      <td>5750.0</td>\n",
       "    </tr>\n",
       "  </tbody>\n",
       "</table>\n",
       "</div>"
      ],
      "text/plain": [
       "     brand                 model sd_card                    main_camera  \\\n",
       "0  Samsung            Galaxy S10     yes       3 Cameras: 12, 12, 16 MP   \n",
       "1  Samsung  Galaxy Note 20 Ultra     yes      3 Cameras: 108, 12, 12 MP   \n",
       "2  Samsung         Galaxy A54 5G     yes        3 Cameras: 50, 12, 5 MP   \n",
       "3    Tecno          Camon 20 Pro      no            2 Cameras: 64, 2 MP   \n",
       "4  Samsung      Galaxy S22 Ultra      no  4 Cameras: 108, 10, 10, 12 MP   \n",
       "\n",
       "    resolution       display sim_card       os   color         region  \\\n",
       "0  1440 x 3040        AMOLED   Single  Android   White  Greater Accra   \n",
       "1  1440 x 3088        AMOLED     Dual  Android  Bronze  Greater Accra   \n",
       "2  1080 x 2340  Super AMOLED     Dual  Android   Black  Greater Accra   \n",
       "3  1080 x 2400        AMOLED     Dual  Android   Black  Greater Accra   \n",
       "4  1400 x 3088        AMOLED     Dual  Android   Black  Greater Accra   \n",
       "\n",
       "             location  screen_size(inch)  battery(mAh)  storage(GB)  ram(GB)  \\\n",
       "0              Circle               6.10        3400.0        128.0      8.0   \n",
       "1              Circle               6.90        4500.0        128.0     12.0   \n",
       "2  Accra Metropolitan               6.40        5000.0        256.0      8.0   \n",
       "3  Accra Metropolitan               6.67        5000.0        256.0      8.0   \n",
       "4  Accra Metropolitan               6.80        5000.0        512.0     12.0   \n",
       "\n",
       "   selfie_camera(MP)  price(¢)  \n",
       "0               10.0    2450.0  \n",
       "1               10.0    5000.0  \n",
       "2               32.0    3000.0  \n",
       "3               32.0    1900.0  \n",
       "4               40.0    5750.0  "
      ]
     },
     "execution_count": 85,
     "metadata": {},
     "output_type": "execute_result"
    }
   ],
   "source": [
    "df.head()"
   ]
  },
  {
   "cell_type": "code",
   "execution_count": 159,
   "id": "f99442eb",
   "metadata": {},
   "outputs": [
    {
     "data": {
      "text/plain": [
       "<Axes: xlabel='brand'>"
      ]
     },
     "execution_count": 159,
     "metadata": {},
     "output_type": "execute_result"
    },
    {
     "data": {
      "image/png": "[encoded data removed]",
      "text/plain": [
       "<Figure size 640x480 with 1 Axes>"
      ]
     },
     "metadata": {},
     "output_type": "display_data"
    }
   ],
   "source": [
    "df['brand'].value_counts().plot(kind='bar',logy=True,color='gold')"
   ]
  }
 ],
 "metadata": {
  "kernelspec": {
   "display_name": "Python 3 (ipykernel)",
   "language": "python",
   "name": "python3"
  },
  "language_info": {
   "codemirror_mode": {
    "name": "ipython",
    "version": 3
   },
   "file_extension": ".py",
   "mimetype": "text/x-python",
   "name": "python",
   "nbconvert_exporter": "python",
   "pygments_lexer": "ipython3",
   "version": "3.8.10"
  }
 },
 "nbformat": 4,
 "nbformat_minor": 5
}
